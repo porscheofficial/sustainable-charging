{
 "cells": [
  {
   "cell_type": "code",
   "execution_count": 1,
   "metadata": {},
   "outputs": [
    {
     "data": {
      "text/plain": [
       "'/Users/jvh/Desktop/Porsche Challenge/hpi-porsche-challenge'"
      ]
     },
     "execution_count": 1,
     "metadata": {},
     "output_type": "execute_result"
    }
   ],
   "source": [
    "%pwd"
   ]
  },
  {
   "cell_type": "code",
   "execution_count": 24,
   "metadata": {},
   "outputs": [],
   "source": [
    "import numpy as np\n",
    "from darts import TimeSeries\n",
    "import pandas as pd\n",
    "\n",
    "from darts import TimeSeries\n",
    "from darts.dataprocessing.transformers import Scaler\n",
    "from darts.models import RNNModel, ExponentialSmoothing, BlockRNNModel\n",
    "from darts.metrics import mape\n",
    "from darts.utils.statistics import check_seasonality, plot_acf\n",
    "import darts.utils.timeseries_generation as tg\n",
    "from darts.datasets import AirPassengersDataset, EnergyDataset\n",
    "from darts.utils.timeseries_generation import datetime_attribute_timeseries\n",
    "from darts.utils.missing_values import fill_missing_values\n",
    "from darts.utils.likelihood_models import GaussianLikelihood\n",
    "from darts.models import NaiveSeasonal\n",
    "from darts.metrics import rmse\n",
    "from darts.models import *\n",
    "\n",
    "import warnings\n",
    "\n",
    "warnings.filterwarnings(\"ignore\")\n",
    "import logging\n",
    "\n",
    "import matplotlib.pyplot as plt"
   ]
  },
  {
   "cell_type": "code",
   "execution_count": 3,
   "metadata": {},
   "outputs": [],
   "source": [
    "data = pd.read_parquet(\"time-series-model/data/processed/energy_data_processed.parquet\")\n",
    "data.set_index(\"timestamp\", inplace=True)\n",
    "\n",
    "test_split = 0.2\n",
    "test_split_index = int(len(data) * (1 - test_split))\n",
    "\n",
    "train, test = data[:test_split_index], data[test_split_index:]\n",
    "train, test = TimeSeries.from_dataframe(train, fill_missing_dates=True), TimeSeries.from_dataframe(test, fill_missing_dates=True)\n",
    "\n",
    "del data"
   ]
  },
  {
   "cell_type": "code",
   "execution_count": 33,
   "metadata": {},
   "outputs": [
    {
     "name": "stdout",
     "output_type": "stream",
     "text": [
      "model NaiveSeasonal() obtains RMSE: 3301.44\n",
      "model NaiveSeasonal(K=7) obtains RMSE: 4029.18\n",
      "model NaiveSeasonal(K=24) obtains RMSE: 3314.10\n",
      "model NaiveSeasonal(K=168) obtains RMSE: 3488.57\n"
     ]
    }
   ],
   "source": [
    "def eval_model(model):\n",
    "    model.fit(train)\n",
    "    forecast = model.predict(len(test))\n",
    "    test_rmse = rmse(test, forecast)\n",
    "    print(f\"model {model} obtains RMSE: {test_rmse:.2f}\")\n",
    "\n",
    "# Multivariate models\n",
    "eval_model(NaiveSeasonal(K=1))\n",
    "eval_model(NaiveSeasonal(K=7))\n",
    "eval_model(NaiveSeasonal(K=24))\n",
    "eval_model(NaiveSeasonal(K=168))\n",
    "eval_model(VARIMA())\n",
    "eval_model(XGBModel())\n",
    "eval_model(NBEATSModel())\n",
    "eval_model(RNNModel(model=\"LSTM\", input_chunk_length=24*7, training_length=24*7*4, output_chunk_length=24, hidden_dim=32, n_rnn_layers=2, n_epochs=100, random_state=42))"
   ]
  },
  {
   "cell_type": "code",
   "execution_count": null,
   "metadata": {},
   "outputs": [],
   "source": []
  },
  {
   "cell_type": "code",
   "execution_count": null,
   "metadata": {},
   "outputs": [],
   "source": []
  }
 ],
 "metadata": {
  "kernelspec": {
   "display_name": ".venv",
   "language": "python",
   "name": "python3"
  },
  "language_info": {
   "codemirror_mode": {
    "name": "ipython",
    "version": 3
   },
   "file_extension": ".py",
   "mimetype": "text/x-python",
   "name": "python",
   "nbconvert_exporter": "python",
   "pygments_lexer": "ipython3",
   "version": "3.11.3"
  }
 },
 "nbformat": 4,
 "nbformat_minor": 2
}
