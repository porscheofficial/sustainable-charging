{
 "cells": [
  {
   "cell_type": "code",
   "execution_count": 1,
   "id": "initial_id",
   "metadata": {
    "collapsed": true,
    "ExecuteTime": {
     "end_time": "2023-11-28T10:26:12.165589Z",
     "start_time": "2023-11-28T10:26:10.849369Z"
    }
   },
   "outputs": [],
   "source": [
    "# import\n",
    "import pandas as pd"
   ]
  },
  {
   "cell_type": "code",
   "execution_count": 82,
   "outputs": [
    {
     "name": "stdout",
     "output_type": "stream",
     "text": [
      "             datetime  Coal—PC  Gas—Combined Cycle  Biomass—cofiring  \\\n",
      "0 2023-11-28 00:00:00     0.15                0.10              0.05   \n",
      "1 2023-11-28 01:00:00     0.16                0.12              0.04   \n",
      "2 2023-11-28 02:00:00     0.14                0.11              0.06   \n",
      "3 2023-11-28 03:00:00     0.13                0.13              0.05   \n",
      "4 2023-11-28 04:00:00     0.12                0.15              0.04   \n",
      "\n",
      "   Biomass—dedicated  Geothermal  Hydropower  Nuclear  \\\n",
      "0               0.10        0.10        0.20     0.10   \n",
      "1               0.10        0.10        0.18     0.10   \n",
      "2               0.12        0.10        0.17     0.11   \n",
      "3               0.08        0.11        0.15     0.15   \n",
      "4               0.10        0.12        0.14     0.15   \n",
      "\n",
      "   Concentrated Solar Power  Solar PV—rooftop  Solar PV—utility  Wind onshore  \\\n",
      "0                      0.05              0.05              0.05          0.10   \n",
      "1                      0.05              0.06              0.06          0.08   \n",
      "2                      0.04              0.07              0.07          0.09   \n",
      "3                      0.03              0.08              0.07          0.05   \n",
      "4                      0.02              0.09              0.06          0.04   \n",
      "\n",
      "   Wind offshore  Sum  \n",
      "0           0.05  1.0  \n",
      "1           0.05  1.0  \n",
      "2           0.02  1.0  \n",
      "3           0.07  1.0  \n",
      "4           0.07  1.0  \n"
     ]
    }
   ],
   "source": [
    "# load predictions\n",
    "def read_and_store_csv(file_path):\n",
    "    try:\n",
    "        df = pd.read_csv(file_path, delimiter=';')\n",
    "        df['datetime'] = pd.to_datetime(df['datetime'])\n",
    "        df = df.sort_values(by='datetime')\n",
    "        return df\n",
    "\n",
    "    except Exception as e:\n",
    "        print(f\"Error reading and storing CSV: {e}\")\n",
    "        return None\n",
    "\n",
    "\n",
    "file_path = '../data/predictions/mock_predictions.csv'\n",
    "data_frame = read_and_store_csv(file_path)\n",
    "\n",
    "if data_frame is not None:\n",
    "    print(data_frame.head()) \n",
    "\n",
    "# load other required data\n",
    "# Average Modern EVs can go 3 miles (4.8 kilometers) per kWh\n",
    "avgBatteryConsumptionPerDayInKWh = 10\n",
    "batteryCapacityInKWh = 70\n",
    "batteryLevel= 1 # 1 = 100%\n",
    "maximumChargingPowerInKW = 7.6"
   ],
   "metadata": {
    "collapsed": false,
    "ExecuteTime": {
     "end_time": "2023-11-28T16:53:31.017473Z",
     "start_time": "2023-11-28T16:53:30.983432Z"
    }
   },
   "id": "b424f7765c809cd1"
  },
  {
   "cell_type": "code",
   "execution_count": 83,
   "outputs": [
    {
     "name": "stdout",
     "output_type": "stream",
     "text": [
      "              datetime  Coal—PC  Gas—Combined Cycle  Biomass—cofiring  \\\n",
      "0  2023-11-28 00:00:00     0.15                0.10              0.05   \n",
      "1  2023-11-28 01:00:00     0.16                0.12              0.04   \n",
      "2  2023-11-28 02:00:00     0.14                0.11              0.06   \n",
      "3  2023-11-28 03:00:00     0.13                0.13              0.05   \n",
      "4  2023-11-28 04:00:00     0.12                0.15              0.04   \n",
      "5  2023-11-28 05:00:00     0.10                0.18              0.03   \n",
      "6  2023-11-28 06:00:00     0.09                0.20              0.02   \n",
      "7  2023-11-29 06:00:00     0.09                0.20              0.02   \n",
      "8  2023-11-30 06:00:00     0.09                0.20              0.02   \n",
      "9  2023-12-01 06:00:00     0.09                0.20              0.02   \n",
      "10 2023-12-02 06:00:00     0.09                0.20              0.02   \n",
      "11 2023-12-03 06:00:00     0.09                0.20              0.02   \n",
      "\n",
      "    Biomass—dedicated  Geothermal  Hydropower  Nuclear  \\\n",
      "0                0.10        0.10        0.20     0.10   \n",
      "1                0.10        0.10        0.18     0.10   \n",
      "2                0.12        0.10        0.17     0.11   \n",
      "3                0.08        0.11        0.15     0.15   \n",
      "4                0.10        0.12        0.14     0.15   \n",
      "5                0.10        0.12        0.13     0.18   \n",
      "6                0.12        0.11        0.12     0.19   \n",
      "7                0.12        0.11        0.12     0.19   \n",
      "8                0.12        0.11        0.12     0.19   \n",
      "9                0.12        0.11        0.12     0.19   \n",
      "10               0.12        0.11        0.12     0.19   \n",
      "11               0.12        0.11        0.12     0.19   \n",
      "\n",
      "    Concentrated Solar Power  Solar PV—rooftop  Solar PV—utility  \\\n",
      "0                       0.05              0.05              0.05   \n",
      "1                       0.05              0.06              0.06   \n",
      "2                       0.04              0.07              0.07   \n",
      "3                       0.03              0.08              0.07   \n",
      "4                       0.02              0.09              0.06   \n",
      "5                       0.02              0.10              0.05   \n",
      "6                       0.01              0.11              0.04   \n",
      "7                       0.01              0.11              0.04   \n",
      "8                       0.01              0.11              0.04   \n",
      "9                       0.01              0.11              0.04   \n",
      "10                      0.01              0.11              0.04   \n",
      "11                      0.01              0.11              0.04   \n",
      "\n",
      "    Wind onshore  Wind offshore  Sum  batteryLevelInPercent  elapsed_hours  \n",
      "0           0.10           0.05  1.0               1.000000            0.0  \n",
      "1           0.08           0.05  1.0               0.994048            1.0  \n",
      "2           0.09           0.02  1.0               0.988095            2.0  \n",
      "3           0.05           0.07  1.0               0.982143            3.0  \n",
      "4           0.04           0.07  1.0               0.976190            4.0  \n",
      "5           0.03           0.06  1.0               0.970238            5.0  \n",
      "6           0.02           0.07  1.0               0.964286            6.0  \n",
      "7           0.02           0.07  1.0               0.821429           30.0  \n",
      "8           0.02           0.07  1.0               0.678571           54.0  \n",
      "9           0.02           0.07  1.0               0.535714           78.0  \n",
      "10          0.02           0.07  1.0               0.392857          102.0  \n",
      "11          0.02           0.07  1.0               0.250000          126.0  \n"
     ]
    }
   ],
   "source": [
    "# calculate remaining battery level per day based on datetime\n",
    "# based on that delete all rows where battery level is below 20% so that they cannot be suggested\n",
    "import pandas as pd\n",
    "\n",
    "\n",
    "def calculate_battery_level_per_day(dataframe, avg_battery_consumption_per_day, battery_capacity, initial_battery_level):\n",
    "    df_result = dataframe.copy()\n",
    "    \n",
    "    df_result['batteryLevelInPercent'] = 0.0\n",
    "    \n",
    "    start_time = df_result['datetime'].min()\n",
    "    df_result['elapsed_hours'] = (df_result['datetime'] - start_time).dt.total_seconds() / 3600\n",
    "    \n",
    "    avg_battery_consumption_per_hour = avg_battery_consumption_per_day / 24\n",
    "    \n",
    "    # Calculate the net change in battery level based on elapsed time\n",
    "    for index, row in df_result.iterrows():\n",
    "        \n",
    "        net_change = avg_battery_consumption_per_hour * row['elapsed_hours']\n",
    "        current_battery_level = max(battery_capacity * initial_battery_level - net_change, 0)\n",
    "        df_result.at[index, 'batteryLevelInPercent'] = (current_battery_level / battery_capacity)\n",
    "            \n",
    "    return df_result\n",
    "\n",
    "capacity_df = calculate_battery_level_per_day(data_frame, avgBatteryConsumptionPerDayInKWh, batteryCapacityInKWh, batteryLevel)\n",
    "\n",
    "# delete all rows where battery level is below 20%\n",
    "df = capacity_df[capacity_df['batteryLevelInPercent'] >= 0.2]\n",
    "low_battery_df = capacity_df[capacity_df['batteryLevelInPercent'] < 0.2]\n",
    "print(df)"
   ],
   "metadata": {
    "collapsed": false,
    "ExecuteTime": {
     "end_time": "2023-11-28T16:53:37.918395Z",
     "start_time": "2023-11-28T16:53:37.879941Z"
    }
   },
   "id": "88914bb136f39ad7"
  },
  {
   "cell_type": "code",
   "execution_count": 84,
   "outputs": [
    {
     "name": "stdout",
     "output_type": "stream",
     "text": [
      "              datetime  Coal—PC  Gas—Combined Cycle  Biomass—cofiring  \\\n",
      "0  2023-11-28 00:00:00     0.15                0.10              0.05   \n",
      "1  2023-11-28 01:00:00     0.16                0.12              0.04   \n",
      "2  2023-11-28 02:00:00     0.14                0.11              0.06   \n",
      "3  2023-11-28 03:00:00     0.13                0.13              0.05   \n",
      "4  2023-11-28 04:00:00     0.12                0.15              0.04   \n",
      "5  2023-11-28 05:00:00     0.10                0.18              0.03   \n",
      "6  2023-11-28 06:00:00     0.09                0.20              0.02   \n",
      "7  2023-11-29 06:00:00     0.09                0.20              0.02   \n",
      "8  2023-11-30 06:00:00     0.09                0.20              0.02   \n",
      "9  2023-12-01 06:00:00     0.09                0.20              0.02   \n",
      "10 2023-12-02 06:00:00     0.09                0.20              0.02   \n",
      "11 2023-12-03 06:00:00     0.09                0.20              0.02   \n",
      "\n",
      "    Biomass—dedicated  Geothermal  Hydropower  Nuclear  \\\n",
      "0                0.10        0.10        0.20     0.10   \n",
      "1                0.10        0.10        0.18     0.10   \n",
      "2                0.12        0.10        0.17     0.11   \n",
      "3                0.08        0.11        0.15     0.15   \n",
      "4                0.10        0.12        0.14     0.15   \n",
      "5                0.10        0.12        0.13     0.18   \n",
      "6                0.12        0.11        0.12     0.19   \n",
      "7                0.12        0.11        0.12     0.19   \n",
      "8                0.12        0.11        0.12     0.19   \n",
      "9                0.12        0.11        0.12     0.19   \n",
      "10               0.12        0.11        0.12     0.19   \n",
      "11               0.12        0.11        0.12     0.19   \n",
      "\n",
      "    Concentrated Solar Power  Solar PV—rooftop  Solar PV—utility  \\\n",
      "0                       0.05              0.05              0.05   \n",
      "1                       0.05              0.06              0.06   \n",
      "2                       0.04              0.07              0.07   \n",
      "3                       0.03              0.08              0.07   \n",
      "4                       0.02              0.09              0.06   \n",
      "5                       0.02              0.10              0.05   \n",
      "6                       0.01              0.11              0.04   \n",
      "7                       0.01              0.11              0.04   \n",
      "8                       0.01              0.11              0.04   \n",
      "9                       0.01              0.11              0.04   \n",
      "10                      0.01              0.11              0.04   \n",
      "11                      0.01              0.11              0.04   \n",
      "\n",
      "    Wind onshore  Wind offshore  Sum  batteryLevelInPercent  elapsed_hours  \\\n",
      "0           0.10           0.05  1.0               1.000000            0.0   \n",
      "1           0.08           0.05  1.0               0.994048            1.0   \n",
      "2           0.09           0.02  1.0               0.988095            2.0   \n",
      "3           0.05           0.07  1.0               0.982143            3.0   \n",
      "4           0.04           0.07  1.0               0.976190            4.0   \n",
      "5           0.03           0.06  1.0               0.970238            5.0   \n",
      "6           0.02           0.07  1.0               0.964286            6.0   \n",
      "7           0.02           0.07  1.0               0.821429           30.0   \n",
      "8           0.02           0.07  1.0               0.678571           54.0   \n",
      "9           0.02           0.07  1.0               0.535714           78.0   \n",
      "10          0.02           0.07  1.0               0.392857          102.0   \n",
      "11          0.02           0.07  1.0               0.250000          126.0   \n",
      "\n",
      "    TotalEmissions  \n",
      "0           248.70  \n",
      "1           259.49  \n",
      "2           258.20  \n",
      "3           243.28  \n",
      "4           241.77  \n",
      "5           232.61  \n",
      "6           230.46  \n",
      "7           230.46  \n",
      "8           230.46  \n",
      "9           230.46  \n",
      "10          230.46  \n",
      "11          230.46  \n"
     ]
    },
    {
     "name": "stderr",
     "output_type": "stream",
     "text": [
      "/var/folders/cw/0zshhmj50sxd1zjjctpchf9w0000gn/T/ipykernel_40893/951218483.py:20: SettingWithCopyWarning: \n",
      "A value is trying to be set on a copy of a slice from a DataFrame.\n",
      "Try using .loc[row_indexer,col_indexer] = value instead\n",
      "\n",
      "See the caveats in the documentation: https://pandas.pydata.org/pandas-docs/stable/user_guide/indexing.html#returning-a-view-versus-a-copy\n",
      "  df.loc[:, 'TotalEmissions'] = df.apply(lambda row: sum(row[column] * emission_factors[column] for column in df.columns[1:-4]), axis=1)\n"
     ]
    }
   ],
   "source": [
    "# calculate relative charging emissions for each hour\n",
    "emission_factors = {\n",
    "    'Coal—PC': 820,\n",
    "    'Gas—Combined Cycle': 490,\n",
    "    'Biomass—cofiring': 740,\n",
    "    'Biomass—dedicated': 230,\n",
    "    'Geothermal': 38,\n",
    "    'Hydropower': 24,\n",
    "    'Nuclear': 12,\n",
    "    'Concentrated Solar Power': 27,\n",
    "    'Solar PV—rooftop': 41,\n",
    "    'Solar PV—utility': 48,\n",
    "    'Wind onshore': 11,\n",
    "    'Wind offshore': 12\n",
    "}\n",
    "\n",
    "# Calculate total emissions for each row\n",
    "df.loc[:, 'TotalEmissions'] = df.apply(lambda row: sum(row[column] * emission_factors[column] for column in df.columns[1:-4]), axis=1)\n",
    "\n",
    "\n",
    "# Display the resulting DataFrame\n",
    "print(df)"
   ],
   "metadata": {
    "collapsed": false,
    "ExecuteTime": {
     "end_time": "2023-11-28T16:53:39.005603Z",
     "start_time": "2023-11-28T16:53:38.980559Z"
    }
   },
   "id": "b7c0bf6909dd2228"
  },
  {
   "cell_type": "code",
   "execution_count": 85,
   "outputs": [
    {
     "name": "stdout",
     "output_type": "stream",
     "text": [
      "              datetime  charging_duration\n",
      "0  2023-11-28 00:00:00                  0\n",
      "1  2023-11-28 01:00:00                  1\n",
      "2  2023-11-28 02:00:00                  2\n",
      "3  2023-11-28 03:00:00                  3\n",
      "4  2023-11-28 04:00:00                  4\n",
      "5  2023-11-28 05:00:00                  5\n",
      "6  2023-11-28 06:00:00                  6\n",
      "7  2023-11-29 06:00:00                  6\n",
      "8  2023-11-30 06:00:00                  6\n",
      "9  2023-12-01 06:00:00                  6\n",
      "10 2023-12-02 06:00:00                  6\n",
      "11 2023-12-03 06:00:00                  6\n"
     ]
    }
   ],
   "source": [
    "# calculate charging times for starting at each hour\n",
    "# mocked so far\n",
    "chargingTime = pd.DataFrame()\n",
    "chargingTime['datetime'] = df['datetime'].copy()\n",
    "chargingTime['charging_duration'] = df['datetime'].copy().dt.hour\n",
    "\n",
    "print(chargingTime)"
   ],
   "metadata": {
    "collapsed": false,
    "ExecuteTime": {
     "end_time": "2023-11-28T16:53:39.944310Z",
     "start_time": "2023-11-28T16:53:39.936262Z"
    }
   },
   "id": "c85e7b272f768541"
  },
  {
   "cell_type": "code",
   "execution_count": 86,
   "outputs": [
    {
     "name": "stdout",
     "output_type": "stream",
     "text": [
      "              datetime  Coal—PC  Gas—Combined Cycle  Biomass—cofiring  \\\n",
      "0  2023-11-28 00:00:00     0.15                0.10              0.05   \n",
      "1  2023-11-28 01:00:00     0.16                0.12              0.04   \n",
      "2  2023-11-28 02:00:00     0.14                0.11              0.06   \n",
      "3  2023-11-28 03:00:00     0.13                0.13              0.05   \n",
      "4  2023-11-28 04:00:00     0.12                0.15              0.04   \n",
      "5  2023-11-28 05:00:00     0.10                0.18              0.03   \n",
      "6  2023-11-28 06:00:00     0.09                0.20              0.02   \n",
      "7  2023-11-29 06:00:00     0.09                0.20              0.02   \n",
      "8  2023-11-30 06:00:00     0.09                0.20              0.02   \n",
      "9  2023-12-01 06:00:00     0.09                0.20              0.02   \n",
      "10 2023-12-02 06:00:00     0.09                0.20              0.02   \n",
      "11 2023-12-03 06:00:00     0.09                0.20              0.02   \n",
      "\n",
      "    Biomass—dedicated  Geothermal  Hydropower  Nuclear  \\\n",
      "0                0.10        0.10        0.20     0.10   \n",
      "1                0.10        0.10        0.18     0.10   \n",
      "2                0.12        0.10        0.17     0.11   \n",
      "3                0.08        0.11        0.15     0.15   \n",
      "4                0.10        0.12        0.14     0.15   \n",
      "5                0.10        0.12        0.13     0.18   \n",
      "6                0.12        0.11        0.12     0.19   \n",
      "7                0.12        0.11        0.12     0.19   \n",
      "8                0.12        0.11        0.12     0.19   \n",
      "9                0.12        0.11        0.12     0.19   \n",
      "10               0.12        0.11        0.12     0.19   \n",
      "11               0.12        0.11        0.12     0.19   \n",
      "\n",
      "    Concentrated Solar Power  Solar PV—rooftop  Solar PV—utility  \\\n",
      "0                       0.05              0.05              0.05   \n",
      "1                       0.05              0.06              0.06   \n",
      "2                       0.04              0.07              0.07   \n",
      "3                       0.03              0.08              0.07   \n",
      "4                       0.02              0.09              0.06   \n",
      "5                       0.02              0.10              0.05   \n",
      "6                       0.01              0.11              0.04   \n",
      "7                       0.01              0.11              0.04   \n",
      "8                       0.01              0.11              0.04   \n",
      "9                       0.01              0.11              0.04   \n",
      "10                      0.01              0.11              0.04   \n",
      "11                      0.01              0.11              0.04   \n",
      "\n",
      "    Wind onshore  Wind offshore  Sum  batteryLevelInPercent  elapsed_hours  \\\n",
      "0           0.10           0.05  1.0               1.000000            0.0   \n",
      "1           0.08           0.05  1.0               0.994048            1.0   \n",
      "2           0.09           0.02  1.0               0.988095            2.0   \n",
      "3           0.05           0.07  1.0               0.982143            3.0   \n",
      "4           0.04           0.07  1.0               0.976190            4.0   \n",
      "5           0.03           0.06  1.0               0.970238            5.0   \n",
      "6           0.02           0.07  1.0               0.964286            6.0   \n",
      "7           0.02           0.07  1.0               0.821429           30.0   \n",
      "8           0.02           0.07  1.0               0.678571           54.0   \n",
      "9           0.02           0.07  1.0               0.535714           78.0   \n",
      "10          0.02           0.07  1.0               0.392857          102.0   \n",
      "11          0.02           0.07  1.0               0.250000          126.0   \n",
      "\n",
      "    TotalEmissions  charging_duration  SumEmissionsForBeginChargingNow  \n",
      "0           248.70                  0                           248.70  \n",
      "1           259.49                  1                           518.98  \n",
      "2           258.20                  2                           759.68  \n",
      "3           243.28                  3                           960.94  \n",
      "4           241.77                  4                          1177.07  \n",
      "5           232.61                  5                          1387.06  \n",
      "6           230.46                  6                          1613.22  \n",
      "7           230.46                  6                          1382.76  \n",
      "8           230.46                  6                          1152.30  \n",
      "9           230.46                  6                           921.84  \n",
      "10          230.46                  6                           691.38  \n",
      "11          230.46                  6                           460.92  \n"
     ]
    }
   ],
   "source": [
    "# calculate emissions for charging, starting at each hour\n",
    "\n",
    "merged_df = pd.merge(df, chargingTime, on='datetime', how='left')\n",
    "\n",
    "# Initialize a new column for the sum of emissions\n",
    "merged_df['SumEmissionsForBeginChargingNow'] = 0.0\n",
    "\n",
    "# Calculate the sum of emissions for each datetime along with the emissions of the following x hours\n",
    "for index, row in merged_df.iterrows():\n",
    "    hours_to_sum = row['charging_duration']  # Sum emissions for up to the next 6 hours\n",
    "    sum_emissions = row['TotalEmissions']  # Use the TotalEmissions value\n",
    "\n",
    "    # Add emissions of the following x hours\n",
    "    for i in range(0, hours_to_sum):\n",
    "        next_hour_index = index + i\n",
    "        if next_hour_index < len(merged_df):\n",
    "            sum_emissions += merged_df.at[next_hour_index, 'TotalEmissions']\n",
    "            \n",
    "    merged_df.at[index, 'SumEmissionsForBeginChargingNow'] = sum_emissions\n",
    "\n",
    "# Display the resulting DataFrame\n",
    "print(merged_df)"
   ],
   "metadata": {
    "collapsed": false,
    "ExecuteTime": {
     "end_time": "2023-11-28T16:53:41.118507Z",
     "start_time": "2023-11-28T16:53:41.108356Z"
    }
   },
   "id": "2984f57c10a3f7d9"
  },
  {
   "cell_type": "markdown",
   "source": [],
   "metadata": {
    "collapsed": false
   },
   "id": "76cb9f4feed6875d"
  },
  {
   "cell_type": "code",
   "execution_count": 87,
   "outputs": [
    {
     "name": "stdout",
     "output_type": "stream",
     "text": [
      "According to the model, the best times to charge are:\n",
      "              datetime   charging_finished  charging_duration  \\\n",
      "0  2023-11-28 00:00:00 2023-11-28 00:00:00                  0   \n",
      "11 2023-12-03 06:00:00 2023-12-03 12:00:00                  6   \n",
      "1  2023-11-28 01:00:00 2023-11-28 02:00:00                  1   \n",
      "\n",
      "    SumEmissionsForBeginChargingNow  \n",
      "0                            248.70  \n",
      "11                           460.92  \n",
      "1                            518.98  \n"
     ]
    }
   ],
   "source": [
    "# output the top three charging times (beginning and ending) with the lowest emissions\n",
    "# sort by sum of emissions\n",
    "sorted_df = merged_df.sort_values(by='SumEmissionsForBeginChargingNow')\n",
    "sorted_df['charging_finished'] = sorted_df['datetime'] + pd.to_timedelta(sorted_df['charging_duration'], unit='h')\n",
    "print(\"According to the model, the best times to charge are:\")\n",
    "print(sorted_df[['datetime', 'charging_finished', 'charging_duration', 'SumEmissionsForBeginChargingNow']][:3])\n"
   ],
   "metadata": {
    "collapsed": false,
    "ExecuteTime": {
     "end_time": "2023-11-28T16:53:43.459887Z",
     "start_time": "2023-11-28T16:53:43.453399Z"
    }
   },
   "id": "4d4378bac49c379c"
  }
 ],
 "metadata": {
  "kernelspec": {
   "display_name": "Python 3",
   "language": "python",
   "name": "python3"
  },
  "language_info": {
   "codemirror_mode": {
    "name": "ipython",
    "version": 2
   },
   "file_extension": ".py",
   "mimetype": "text/x-python",
   "name": "python",
   "nbconvert_exporter": "python",
   "pygments_lexer": "ipython2",
   "version": "2.7.6"
  }
 },
 "nbformat": 4,
 "nbformat_minor": 5
}
