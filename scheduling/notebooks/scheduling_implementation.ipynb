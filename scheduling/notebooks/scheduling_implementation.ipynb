{
 "cells": [
  {
   "cell_type": "code",
   "execution_count": 1,
   "id": "initial_id",
   "metadata": {
    "collapsed": true,
    "ExecuteTime": {
     "end_time": "2024-01-07T12:02:02.904311Z",
     "start_time": "2024-01-07T12:01:43.995986Z"
    }
   },
   "outputs": [],
   "source": [
    "import pandas as pd\n",
    "import datetime as datetime"
   ]
  },
  {
   "cell_type": "code",
   "execution_count": 8,
   "outputs": [],
   "source": [
    "# load predictions\n",
    "def get_predictions(file_path):\n",
    "    try:\n",
    "        df = pd.read_csv(file_path, delimiter=';')\n",
    "        df['datetime'] = pd.to_datetime(df['datetime'])\n",
    "        df = df.sort_values(by='datetime')\n",
    "        print('predictions loaded')\n",
    "        return df\n",
    "\n",
    "    except Exception as e:\n",
    "        print(f\"Error reading and storing CSV: {e}\")\n",
    "        return None\n",
    "\n",
    "# data_frame = get_predictions('../data/predictions/mock_predictions.csv')\n",
    "# print(data_frame)\n",
    "    "
   ],
   "metadata": {
    "collapsed": false,
    "ExecuteTime": {
     "end_time": "2024-01-07T12:02:26.221008Z",
     "start_time": "2024-01-07T12:02:26.179732Z"
    }
   },
   "id": "b424f7765c809cd1"
  },
  {
   "cell_type": "code",
   "execution_count": 9,
   "outputs": [],
   "source": [
    "def get_energy_consumption_for_distance(distance_in_km):\n",
    "    return 23.9 * distance_in_km / 100\n",
    "\n",
    "def get_schedule(weekly_schedule, data_frame):\n",
    "    if weekly_schedule is None:\n",
    "        default_schedule = pd.read_csv('../data/schedules/default_schedule.csv', delimiter=';')\n",
    "        default_schedule['datetime'] = pd.to_datetime(default_schedule['datetime'])\n",
    "        default_schedule = default_schedule.sort_values(by='datetime')\n",
    "        default_schedule['ev_energy_consumption_kWh'] = 0.0\n",
    "        \n",
    "        # created adjusted daytime for default_schedule\n",
    "        offset = data_frame['datetime'].min().date() - default_schedule['datetime'].min().date()\n",
    "        default_schedule['datetime'] = default_schedule['datetime'] + offset\n",
    "        ## update ev_energy_consumption based on trips\n",
    "        for index, row in default_schedule.iterrows():\n",
    "            default_schedule.loc[default_schedule['datetime'] == row['datetime'], 'ev_energy_consumption_kWh'] = get_energy_consumption_for_distance(row['distance_in_km'])\n",
    "        print('default schedule loaded')\n",
    "\n",
    "        return default_schedule\n",
    "    else:\n",
    "        print('weekly schedule loaded ', weekly_schedule)\n",
    "        return weekly_schedule\n",
    "\n",
    "def add_schedule_to_df(weekly_schedule, data_frame):\n",
    "    data_frame['ev_energy_consumption_kWh'] = 0.0\n",
    "    for index, row in weekly_schedule.iterrows():\n",
    "        data_frame.loc[data_frame['datetime'] == row['datetime'], 'ev_energy_consumption_kWh'] = get_energy_consumption_for_distance(row['distance_in_km'])\n",
    "\n",
    "    return \n",
    "    \n",
    "# weekly_schedule = get_schedule(None, data_frame)\n",
    "# add_schedule_to_df(weekly_schedule, data_frame)\n",
    "# print(data_frame)"
   ],
   "metadata": {
    "collapsed": false,
    "ExecuteTime": {
     "end_time": "2024-01-07T12:02:27.631938Z",
     "start_time": "2024-01-07T12:02:27.601951Z"
    }
   },
   "id": "a4df0b118fa2b071"
  },
  {
   "cell_type": "code",
   "execution_count": 11,
   "outputs": [],
   "source": [
    "# calculate remaining battery level per hour\n",
    "# based on that delete all rows where battery level is below 20% so that they cannot be suggested\n",
    "def calculate_battery_level_per_day(dataframe, battery_capacity, initial_battery_level):\n",
    "    df_result = dataframe.copy()\n",
    "    df_result['batteryLevelInPercent'] = 0.0\n",
    "    \n",
    "    previous_battery_level = initial_battery_level*100\n",
    "    # Calculate the net change in battery level based on elapsed time\n",
    "    for index, row in df_result.iterrows():\n",
    "        net_percentage_change = row['ev_energy_consumption_kWh'] *  100 / battery_capacity\n",
    "        current_battery_level = max(previous_battery_level - net_percentage_change, 0)\n",
    "        df_result.at[index, 'batteryLevelInPercent'] = current_battery_level \n",
    "        \n",
    "        # Feature: don't recommend charging while driving by dropping this entry\n",
    "        if row['ev_energy_consumption_kWh'] > 0:\n",
    "            print('not considering charging while driving at: ' + str(row['datetime']))\n",
    "            df_result.drop(index, inplace=True)\n",
    "        \n",
    "        previous_battery_level = current_battery_level\n",
    "    \n",
    "    print('battery level calculated')\n",
    "    return df_result\n",
    "\n",
    "def delete_rows_with_low_battery(dataframe, battery_level):\n",
    "    df_result = dataframe.copy()\n",
    "    df_above_battery_level = df_result[df_result['batteryLevelInPercent'] >= battery_level]\n",
    "    df_below_battery_level = df_result[df_result['batteryLevelInPercent'] < battery_level]\n",
    "    \n",
    "    if len(df_below_battery_level) > 0:\n",
    "        min_row = df_below_battery_level[df_below_battery_level['datetime'] == df_below_battery_level['datetime'].min()].iloc[0]\n",
    "        print('have to charge before battery too low (' + str(min_row['batteryLevelInPercent']) + ') at ' + str(min_row['datetime']))\n",
    "    return df_above_battery_level\n",
    "\n",
    "# data_frame = calculate_battery_level_per_day(data_frame, batteryCapacityInKWh, batteryLevel)\n",
    "# data_frame = delete_rows_with_low_battery(data_frame, 20)\n",
    "# print(data_frame)"
   ],
   "metadata": {
    "collapsed": false,
    "ExecuteTime": {
     "end_time": "2024-01-07T12:02:49.322677Z",
     "start_time": "2024-01-07T12:02:49.305223Z"
    }
   },
   "id": "88914bb136f39ad7"
  },
  {
   "cell_type": "code",
   "execution_count": 12,
   "outputs": [],
   "source": [
    "# calculate relative charging emissions for each hour\n",
    "emission_factors = {\n",
    "    'Coal—PC': 820,\n",
    "    'Gas—Combined Cycle': 490,\n",
    "    'Biomass—cofiring': 740,\n",
    "    'Biomass—dedicated': 230,\n",
    "    'Geothermal': 38,\n",
    "    'Hydropower': 24,\n",
    "    'Nuclear': 12,\n",
    "    'Concentrated Solar Power': 27,\n",
    "    'Solar PV—rooftop': 41,\n",
    "    'Solar PV—utility': 48,\n",
    "    'Wind onshore': 11,\n",
    "    'Wind offshore': 12\n",
    "}\n",
    "\n",
    "def calculate_total_emissions(data_frame, emission_factors):\n",
    "    df_result = data_frame.copy()\n",
    "\n",
    "    # Calculate total emissions for each row\n",
    "    df_result['TotalEmissions'] = df_result.apply(\n",
    "        lambda row: sum(row[column] * emission_factors[column] for column in df_result.columns[1:-4]),axis=1\n",
    "    )\n",
    "    \n",
    "    print('total emissions calculated')\n",
    "    return df_result\n",
    "\n",
    "#data_frame = calculate_total_emissions(data_frame, emission_factors)\n",
    "# print(data_frame)"
   ],
   "metadata": {
    "collapsed": false,
    "ExecuteTime": {
     "end_time": "2024-01-07T12:02:50.401177Z",
     "start_time": "2024-01-07T12:02:50.352272Z"
    }
   },
   "id": "b7c0bf6909dd2228"
  },
  {
   "cell_type": "code",
   "execution_count": 13,
   "outputs": [],
   "source": [
    "# calculate charging times for starting at each hour\n",
    "charging_curve = [204, 207, 212, 212, 212, 213, 214, 215, 215, 215, 216, 217, 217, 217, 218, 218, 219, 219, 220, 220, 220, 221, 221, 221, 221, 222, 222, 222, 214, 214, 215, 215, 171, 171, 171, 172, 172, 172, 172, 172, 172, 172, 173, 173, 173, 173, 173, 173, 174, 174, 174, 175, 175, 175, 175, 176, 175, 160, 160, 160, 150, 150, 151, 143, 144, 144, 145, 135, 136, 136, 128, 129, 128, 100, 101, 101, 101, 101, 102, 74, 69, 60, 51, 43, 35, 30, 28, 25, 29, 39, 39, 39, 39, 39, 39, 37, 35, 34, 32, 30]\n",
    "\n",
    "def get_time_to_charge(\n",
    "    battery_capacity: float,\n",
    "    charging_curve: list[float],\n",
    "    current_soc: int,\n",
    "    target_soc: int = 80,\n",
    "    efficiency: float = 0.9,\n",
    ") -> float:\n",
    "    \"\"\"\n",
    "    Get the estimated time to charge from the current state of charge (SOC) to a target SOC.\n",
    "\n",
    "    Args:\n",
    "        battery_capacity: The capacity of the battery\n",
    "        charging_curve: The charging curve of the battery\n",
    "        current_soc: The current state of charge (between 0 and 100)\n",
    "        target_soc: The target state of charge (between 0 and 100, defaults to 80)\n",
    "        efficiency: The efficiency of the charging process (between 0 and 1, defaults to 0.9)\n",
    "\n",
    "    Returns:\n",
    "        The estimated time to charge in h\n",
    "    \"\"\"\n",
    "\n",
    "    one_percent_capacity = battery_capacity / 100\n",
    "    charging_rates = zip(\n",
    "        charging_curve[current_soc:target_soc],\n",
    "        charging_curve[current_soc + 1 : target_soc + 1],\n",
    "    )\n",
    "    return (\n",
    "        sum(\n",
    "            2 * one_percent_capacity / (current_rate + next_rate)\n",
    "            for (current_rate, next_rate) in charging_rates\n",
    "        )\n",
    "        / efficiency\n",
    "    )\n",
    "\n",
    "def calculate_charging_time(data_frame, battery_capacity, charging_curve):\n",
    "    df_result = data_frame.copy()\n",
    "    df_result['charging_duration'] = 0\n",
    "    for index, row in df_result.iterrows():\n",
    "        df_result.at[index, 'charging_duration'] = int(get_time_to_charge(battery_capacity, charging_curve, int(row['batteryLevelInPercent'])))\n",
    "    print('charging times calculated')\n",
    "    return df_result\n",
    "\n",
    "# data_frame = calculate_charging_time(data_frame, batteryCapacityInKWh, charging_curve)\n",
    "# print(data_frame)"
   ],
   "metadata": {
    "collapsed": false,
    "ExecuteTime": {
     "end_time": "2024-01-07T12:02:52.006609Z",
     "start_time": "2024-01-07T12:02:51.976121Z"
    }
   },
   "id": "c85e7b272f768541"
  },
  {
   "cell_type": "code",
   "execution_count": 14,
   "outputs": [],
   "source": [
    "def calculate_sum_emissions(data_frame): \n",
    "    df_result = data_frame.copy()\n",
    "\n",
    "    df_result['SumEmissionsForBeginChargingNow'] = 0.0\n",
    "    \n",
    "    # Calculate the sum of emissions for each datetime along with the emissions of the following x hours\n",
    "    for index, row in df_result.iterrows():\n",
    "        hours_to_sum = row['charging_duration']  # Sum emissions for up to the next 6 hours\n",
    "        sum_emissions = row['TotalEmissions']  # Use the TotalEmissions value\n",
    "    \n",
    "        # Add emissions of the following x hours\n",
    "        for i in range(0, hours_to_sum):\n",
    "            next_hour_index = index + i\n",
    "            if next_hour_index < len(df_result):\n",
    "                sum_emissions += df_result.at[next_hour_index, 'TotalEmissions']\n",
    "                \n",
    "        df_result.at[index, 'SumEmissionsForBeginChargingNow'] = sum_emissions\n",
    "    print('sum emissions calculated')\n",
    "    return df_result\n",
    "\n",
    "# data_frame = calculate_sum_emissions(data_frame)\n",
    "# print(data_frame)"
   ],
   "metadata": {
    "collapsed": false,
    "ExecuteTime": {
     "end_time": "2024-01-07T12:02:53.810836Z",
     "start_time": "2024-01-07T12:02:53.783650Z"
    }
   },
   "id": "2984f57c10a3f7d9"
  },
  {
   "cell_type": "code",
   "execution_count": 15,
   "outputs": [],
   "source": [
    "def print_output(data_frame):    \n",
    "    # output the top three charging times (beginning and ending) with the lowest emissions\n",
    "    # sort by sum of emissions\n",
    "    data_frame = data_frame.sort_values(by='SumEmissionsForBeginChargingNow')\n",
    "    data_frame['charging_finished'] = data_frame['datetime'] + pd.to_timedelta(data_frame['charging_duration'], unit='h')\n",
    "    print(\"According to the model, the best times to charge are:\")\n",
    "    print(data_frame[['datetime', 'charging_finished', 'charging_duration', 'SumEmissionsForBeginChargingNow']][:3])"
   ],
   "metadata": {
    "collapsed": false,
    "ExecuteTime": {
     "end_time": "2024-01-07T12:02:55.455266Z",
     "start_time": "2024-01-07T12:02:55.423170Z"
    }
   },
   "id": "4d4378bac49c379c"
  },
  {
   "cell_type": "code",
   "execution_count": 16,
   "outputs": [],
   "source": [
    "## All in one function\n",
    "def charging_scheduler (predictions_path, battery_capacity, battery_level, maximum_charging_power, weekly_schedule):\n",
    "    \n",
    "    predictions = get_predictions(predictions_path)\n",
    "    weekly_schedule = get_schedule(None, predictions)\n",
    "    add_schedule_to_df(weekly_schedule, predictions)\n",
    "    predictions = calculate_battery_level_per_day(predictions, battery_capacity, battery_level)\n",
    "    predictions = delete_rows_with_low_battery(predictions, 20)\n",
    "    predictions = calculate_total_emissions(predictions, emission_factors)\n",
    "    predictions = calculate_charging_time(predictions, battery_capacity, charging_curve)\n",
    "    predictions = calculate_sum_emissions(predictions)\n",
    "    print_output(predictions)"
   ],
   "metadata": {
    "collapsed": false,
    "ExecuteTime": {
     "end_time": "2024-01-07T12:02:56.895642Z",
     "start_time": "2024-01-07T12:02:56.859778Z"
    }
   },
   "id": "2afff4ee9c5c8782"
  },
  {
   "cell_type": "code",
   "execution_count": 17,
   "outputs": [
    {
     "name": "stdout",
     "output_type": "stream",
     "text": [
      "predictions loaded\n",
      "default schedule loaded\n",
      "not considering charging while driving at: 2023-11-28 08:00:00\n",
      "not considering charging while driving at: 2023-11-28 18:00:00\n",
      "not considering charging while driving at: 2023-11-29 08:00:00\n",
      "not considering charging while driving at: 2023-11-29 18:00:00\n",
      "not considering charging while driving at: 2023-11-30 08:00:00\n",
      "not considering charging while driving at: 2023-11-30 18:00:00\n",
      "not considering charging while driving at: 2023-12-01 08:00:00\n",
      "not considering charging while driving at: 2023-12-01 17:00:00\n",
      "not considering charging while driving at: 2023-12-02 08:00:00\n",
      "not considering charging while driving at: 2023-12-02 16:00:00\n",
      "not considering charging while driving at: 2023-12-02 18:00:00\n",
      "not considering charging while driving at: 2023-12-02 19:00:00\n",
      "not considering charging while driving at: 2023-12-02 20:00:00\n",
      "not considering charging while driving at: 2023-12-03 15:00:00\n",
      "not considering charging while driving at: 2023-12-03 16:00:00\n",
      "not considering charging while driving at: 2023-12-03 17:00:00\n",
      "battery level calculated\n",
      "have to charge before battery too low (10.784714285714285) at 2023-11-30 19:00:00\n",
      "total emissions calculated\n",
      "charging times calculated\n",
      "sum emissions calculated\n",
      "According to the model, the best times to charge are:\n",
      "              datetime   charging_finished  charging_duration  \\\n",
      "13 2023-11-29 05:00:00 2023-11-29 05:00:00                  0   \n",
      "9  2023-11-29 01:00:00 2023-11-29 01:00:00                  0   \n",
      "11 2023-11-29 03:00:00 2023-11-29 03:00:00                  0   \n",
      "\n",
      "    SumEmissionsForBeginChargingNow  \n",
      "13                           194.01  \n",
      "9                            210.95  \n",
      "11                           219.01  \n"
     ]
    }
   ],
   "source": [
    "# define values\n",
    "batteryCapacityInKWh = 70 \n",
    "batteryLevel= 1 # 1 = 100%\n",
    "maximumChargingPowerInKW = 7.6\n",
    "file_path = '../data/predictions/mock_predictions.csv'\n",
    "\n",
    "charging_scheduler(file_path, batteryCapacityInKWh, batteryLevel, maximumChargingPowerInKW, None)"
   ],
   "metadata": {
    "collapsed": false,
    "ExecuteTime": {
     "end_time": "2024-01-07T12:02:59.941663Z",
     "start_time": "2024-01-07T12:02:59.826456Z"
    }
   },
   "id": "4ad37f10c7eee312"
  },
  {
   "cell_type": "code",
   "execution_count": 5,
   "outputs": [],
   "source": [],
   "metadata": {
    "collapsed": false,
    "ExecuteTime": {
     "end_time": "2024-01-07T12:02:07.936580Z",
     "start_time": "2024-01-07T12:02:07.633176Z"
    }
   },
   "id": "49402e802cd09326"
  },
  {
   "cell_type": "code",
   "outputs": [],
   "source": [],
   "metadata": {
    "collapsed": false,
    "ExecuteTime": {
     "end_time": "2024-01-07T12:02:08.087368Z",
     "start_time": "2024-01-07T12:02:07.991731Z"
    }
   },
   "id": "b54af389910791fb",
   "execution_count": 5
  },
  {
   "cell_type": "code",
   "outputs": [],
   "source": [],
   "metadata": {
    "collapsed": false
   },
   "id": "8266ee2c5272362b"
  }
 ],
 "metadata": {
  "kernelspec": {
   "display_name": "Python 3",
   "language": "python",
   "name": "python3"
  },
  "language_info": {
   "codemirror_mode": {
    "name": "ipython",
    "version": 2
   },
   "file_extension": ".py",
   "mimetype": "text/x-python",
   "name": "python",
   "nbconvert_exporter": "python",
   "pygments_lexer": "ipython2",
   "version": "2.7.6"
  }
 },
 "nbformat": 4,
 "nbformat_minor": 5
}
