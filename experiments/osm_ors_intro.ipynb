{
 "cells": [
  {
   "cell_type": "markdown",
   "source": [
    "## **Routing and Retrieving EV Charging Stations**\n",
    "\n",
    "For routing this notebook uses the api of open routing service. This is a service based on open street map, but it requires authentication and works with credits. The education package gives us the following credits: (10.000 per day / 40 per minute) so it should be fine like that.\n",
    "\n",
    "For more detailled information, have a look at:\n",
    "\n",
    "- [ors directions API examples and playground](https://openrouteservice.org/dev/#/api-docs/v2/directions/{profile}/get)\n",
    "\n",
    "Connect via API Key, choose a start and end address"
   ],
   "metadata": {
    "collapsed": false
   },
   "id": "79465506c1a56557"
  },
  {
   "cell_type": "code",
   "execution_count": 8,
   "outputs": [
    {
     "name": "stdout",
     "output_type": "stream",
     "text": [
      "5b3ce3597851110001cf624834ddb0fae46447969085ea7efe629c8f\n"
     ]
    }
   ],
   "source": [
    "import requests\n",
    "import os\n",
    "\n",
    "api_key = '5b3ce3597851110001cf624834ddb0fae46447969085ea7efe629c8f' #os.environ.get('ORS_API_KEY')\n",
    "print(api_key)\n",
    "start_address = \"86 Gilman Street, Somerville, MA 02145\"\n",
    "end_address = \"1 Harvard Yard, Cambridge, MA 02138\"\n",
    "\n",
    "converted_SA = start_address.replace(\" \", \"%20\")\n",
    "converted_EA = end_address.replace(\" \", \"%20\")\n",
    "\n",
    "country = \"US\"\n",
    "resultSize = 1"
   ],
   "metadata": {
    "collapsed": false,
    "ExecuteTime": {
     "end_time": "2023-11-03T12:01:37.840800Z",
     "start_time": "2023-11-03T12:01:37.800064Z"
    }
   },
   "id": "2628f0d042e75150"
  },
  {
   "cell_type": "markdown",
   "source": [
    "Get coordinates for start and end address"
   ],
   "metadata": {
    "collapsed": false
   },
   "id": "8e639c0f7de19df2"
  },
  {
   "cell_type": "code",
   "execution_count": 9,
   "outputs": [
    {
     "name": "stdout",
     "output_type": "stream",
     "text": [
      "Start Latitude: -71.092508, Start Longitude: 42.385904\n",
      "End Latitude: -71.115987, End Longitude: 42.38036\n"
     ]
    }
   ],
   "source": [
    "def get_coordinates(api_key, converted_address, country, result_size=1):\n",
    "    headers = {\n",
    "        'Accept': 'application/json, application/geo+json, application/gpx+xml, img/png; charset=utf-8',\n",
    "    }\n",
    "    url = f'https://api.openrouteservice.org/geocode/search?api_key={api_key}&text={converted_address}&boundary.country={country}&size={result_size}'\n",
    "    response = requests.get(url, headers=headers)\n",
    "    data = response.json()\n",
    "\n",
    "    if \"features\" in data and len(data[\"features\"]) > 0:\n",
    "        coordinates = data[\"features\"][0][\"geometry\"][\"coordinates\"]\n",
    "        latitude, longitude = coordinates\n",
    "        return latitude, longitude\n",
    "    else:\n",
    "        return None, None\n",
    "    \n",
    "start_latitude, start_longitude = get_coordinates(api_key, converted_SA, country, resultSize)\n",
    "end_latitude, end_longitude = get_coordinates(api_key, converted_EA, country, resultSize)\n",
    "print(f\"Start Latitude: {start_latitude}, Start Longitude: {start_longitude}\")\n",
    "print(f\"End Latitude: {end_latitude}, End Longitude: {end_longitude}\")\n",
    "\n",
    "start_address = f\"{start_latitude},{start_longitude}\"\n",
    "end_address = f\"{end_latitude},{end_longitude}\""
   ],
   "metadata": {
    "collapsed": false,
    "ExecuteTime": {
     "end_time": "2023-11-03T12:01:38.455697Z",
     "start_time": "2023-11-03T12:01:37.822431Z"
    }
   },
   "id": "a1da189681108c43"
  },
  {
   "cell_type": "markdown",
   "source": [
    "Get the route from the start to end address, extract duration"
   ],
   "metadata": {
    "collapsed": false
   },
   "id": "cd7b727001813500"
  },
  {
   "cell_type": "code",
   "execution_count": 10,
   "outputs": [
    {
     "name": "stdout",
     "output_type": "stream",
     "text": [
      "Duration of travel: 7.78 minutes for a distance of 3.5416 km\n"
     ]
    }
   ],
   "source": [
    "url = f\"https://api.openrouteservice.org/v2/directions/driving-car?api_key={api_key}&start={start_address}&end={end_address}\"\n",
    "\n",
    "response = requests.get(url)\n",
    "data = response.json()\n",
    "\n",
    "if \"features\" in data and len(data[\"features\"]) > 0:\n",
    "    duration = data[\"features\"][0][\"properties\"][\"segments\"][0][\"duration\"]\n",
    "    distance = data[\"features\"][0][\"properties\"][\"segments\"][0][\"distance\"]\n",
    "    print(f\"Duration of travel: {duration/60} minutes for a distance of {distance/1000} km\")\n",
    "else:\n",
    "    print(\"Duration not found in the response.\")\n"
   ],
   "metadata": {
    "collapsed": false,
    "ExecuteTime": {
     "end_time": "2023-11-03T12:01:38.651200Z",
     "start_time": "2023-11-03T12:01:38.456118Z"
    }
   },
   "id": "initial_id"
  },
  {
   "cell_type": "markdown",
   "source": [
    "## Get EV charging stations within an area\n",
    "For that we will use the osm overpass API\n",
    "- [Documentation](https://wiki.openstreetmap.org/wiki/Overpass_API)\n",
    "- [Test queries](https://overpass-turbo.eu)"
   ],
   "metadata": {
    "collapsed": false
   },
   "id": "9531f6acdc96bcf3"
  },
  {
   "cell_type": "code",
   "execution_count": 11,
   "outputs": [
    {
     "name": "stdout",
     "output_type": "stream",
     "text": [
      "[{'name': 'Unknown Name', 'address': 'Unknown Address', 'lat': 42.3892045, 'lon': -71.1327904}, {'name': 'ChargePoint', 'address': 'Unknown Address', 'lat': 42.3962469, 'lon': -71.1199394}, {'name': 'ChargePoint', 'address': 'Unknown Address', 'lat': 42.395375, 'lon': -71.1234511}, {'name': 'ChargePoint', 'address': 'Unknown Address', 'lat': 42.3659046, 'lon': -71.1055873}, {'name': 'Unknown Name', 'address': 'Unknown Address', 'lat': 42.369874, 'lon': -71.1031063}, {'name': 'Unknown Name', 'address': 'Unknown Address', 'lat': 42.3813403, 'lon': -71.1034341}]\n"
     ]
    }
   ],
   "source": [
    "import requests\n",
    "\n",
    "# Define your area of interest\n",
    "min_lat, min_lon, max_lat, max_lon = 42.35, -71.15, 42.40, -71.10\n",
    "bbox = (min_lat, min_lon, max_lat, max_lon)\n",
    "\n",
    "# Construct query\n",
    "query = f'''\n",
    "[out:json];\n",
    "(\n",
    "  node[\"amenity\"=\"charging_station\"]({bbox[0]}, {bbox[1]}, {bbox[2]}, {bbox[3]});\n",
    "  way[\"amenity\"=\"charging_station\"]({bbox[0]}, {bbox[1]}, {bbox[2]}, {bbox[3]});\n",
    "  relation[\"amenity\"=\"charging_station\"]({bbox[0]}, {bbox[1]}, {bbox[2]}, {bbox[3]});\n",
    ");\n",
    "out center;\n",
    "'''\n",
    "\n",
    "# Make the API request\n",
    "overpass_url = \"https://z.overpass-api.de/api/interpreter\"\n",
    "response = requests.post(overpass_url, data=query)\n",
    "\n",
    "# visualize results\n",
    "charging_stations = []\n",
    "\n",
    "if response.status_code == 200:\n",
    "    parsed_data = response.json()\n",
    "    \n",
    "    for element in parsed_data['elements']:\n",
    "        if element.get('tags', {}).get('amenity') == 'charging_station':\n",
    "            if element['type'] == 'node':\n",
    "                lat = element.get('lat', None)\n",
    "                lon = element.get('lon', None)\n",
    "            elif element['type'] == 'way' and 'center' in element:\n",
    "                lat = element['center'].get('lat', None)\n",
    "                lon = element['center'].get('lon', None)\n",
    "            else:\n",
    "                lat = 'Unknown'\n",
    "                lon = 'Unknown'\n",
    "            name = element.get('tags', {}).get('name', 'Unknown Name')\n",
    "            address = element.get('tags', {}).get('address', 'Unknown Address')\n",
    "            charging_stations.append({\n",
    "                'name': name,\n",
    "                'address': address,\n",
    "                'lat': lat,\n",
    "                'lon': lon\n",
    "            })\n",
    "    print(charging_stations)\n",
    "else:\n",
    "    print(response.text)\n",
    "    \n"
   ],
   "metadata": {
    "collapsed": false,
    "ExecuteTime": {
     "end_time": "2023-11-03T12:01:39.002173Z",
     "start_time": "2023-11-03T12:01:38.655718Z"
    }
   },
   "id": "271540f348254ca2"
  },
  {
   "cell_type": "code",
   "execution_count": 11,
   "outputs": [],
   "source": [],
   "metadata": {
    "collapsed": false,
    "ExecuteTime": {
     "end_time": "2023-11-03T12:01:39.012035Z",
     "start_time": "2023-11-03T12:01:38.999599Z"
    }
   },
   "id": "efc2f7b4ca198df7"
  }
 ],
 "metadata": {
  "kernelspec": {
   "display_name": "Python 3",
   "language": "python",
   "name": "python3"
  },
  "language_info": {
   "codemirror_mode": {
    "name": "ipython",
    "version": 2
   },
   "file_extension": ".py",
   "mimetype": "text/x-python",
   "name": "python",
   "nbconvert_exporter": "python",
   "pygments_lexer": "ipython2",
   "version": "2.7.6"
  }
 },
 "nbformat": 4,
 "nbformat_minor": 5
}
