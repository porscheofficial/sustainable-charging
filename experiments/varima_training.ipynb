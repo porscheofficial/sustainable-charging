{
 "cells": [
  {
   "cell_type": "markdown",
   "source": [],
   "metadata": {
    "collapsed": false
   },
   "id": "156c70f845a713f7"
  },
  {
   "cell_type": "markdown",
   "id": "841636fbe8153bb1",
   "metadata": {
    "collapsed": false
   },
   "source": [
    "# VARIMA model"
   ]
  },
  {
   "cell_type": "markdown",
   "id": "143ee2e9bc1c72ab",
   "metadata": {
    "collapsed": false
   },
   "source": [
    "## Imports"
   ]
  },
  {
   "cell_type": "code",
   "execution_count": null,
   "id": "328ad4256743485b",
   "metadata": {
    "collapsed": false
   },
   "outputs": [],
   "source": [
    "import random\n",
    "\n",
    "import torch\n",
    "torch.cuda.is_available()"
   ]
  },
  {
   "cell_type": "code",
   "execution_count": null,
   "id": "initial_id",
   "metadata": {
    "collapsed": true,
    "jupyter": {
     "outputs_hidden": true
    }
   },
   "outputs": [],
   "source": [
    "import optuna\n",
    "import os\n",
    "import pandas as pd\n",
    "import numpy as np\n",
    "import matplotlib.pyplot as plt\n",
    "from pandas import DataFrame\n",
    "\n",
    "from darts import TimeSeries\n",
    "from darts.models import VARIMA\n",
    "from darts.metrics import rmse\n",
    "from darts.dataprocessing.transformers import Scaler, Diff\n",
    "from darts.utils.timeseries_generation import datetime_attribute_timeseries\n",
    "from darts.utils.statistics import plot_acf, plot_pacf, stationarity_test_kpss, stationarity_test_adf\n",
    "\n",
    "from time_series_model.data.weather.weather_dataloader import MeteostatDataLoader\n",
    "from time_series_model.data.data_loading import SMARDDataLoader\n",
    "from time_series_model.evaluation_method import get_covariate_args, cross_validation_without_refit\n",
    "\n",
    "import warnings\n",
    "warnings.filterwarnings(\"ignore\")\n",
    "\n",
    "import logging\n",
    "logging.getLogger(\"time_series_model\").setLevel(logging.INFO)\n",
    "logging.getLogger('lightning').setLevel(0)\n",
    "logging.getLogger('pytorch_lightning').setLevel(0)\n",
    "logging.getLogger('darts').setLevel(0)\n",
    "logging.basicConfig(format='%(asctime)s - %(name)s - %(levelname)s - %(message)s')"
   ]
  },
  {
   "cell_type": "markdown",
   "id": "af2d1e887117eb36",
   "metadata": {
    "collapsed": false
   },
   "source": [
    "## Load SMARD data"
   ]
  },
  {
   "cell_type": "code",
   "execution_count": null,
   "id": "61c1abe29b6264b2",
   "metadata": {
    "collapsed": false
   },
   "outputs": [],
   "source": [
    "smard_dataloader = SMARDDataLoader(\n",
    "    file_paths=[\n",
    "        os.path.join(os.getcwd(), os.pardir, 'data', 'raw', '2015_2016.csv'),\n",
    "        os.path.join(os.getcwd(), os.pardir, 'data', 'raw', '2017_2018.csv'),\n",
    "        os.path.join(os.getcwd(), os.pardir, 'data', 'raw', '2019_2020.csv'),\n",
    "        os.path.join(os.getcwd(), os.pardir, 'data', 'raw', '2021_2022.csv'),\n",
    "        os.path.join(os.getcwd(), os.pardir, 'data', 'raw', '2022_2023.csv')\n",
    "    ]\n",
    ")\n",
    "smard_dataloader.load_data()\n",
    "smard_dataloader.preprocess_data()\n",
    "smard_dataloader.validate_data()\n",
    "\n",
    "smard_data_df: DataFrame = smard_dataloader.data\n",
    "smard_data_df['timestamp'] = pd.to_datetime(smard_data_df['timestamp'])\n",
    "smard_data_df = smard_data_df.set_index('timestamp')\n",
    "smard_data = TimeSeries.from_dataframe(\n",
    "    smard_data_df, \n",
    "    value_cols=list(smard_data_df.columns), \n",
    "    fill_missing_dates=True, \n",
    "    fillna_value=0, \n",
    "    freq='1H'\n",
    ")"
   ]
  },
  {
   "cell_type": "code",
   "execution_count": null,
   "outputs": [],
   "source": [
    "smard_data_df.describe()"
   ],
   "metadata": {
    "collapsed": false
   },
   "id": "58d986d9ab627490"
  },
  {
   "cell_type": "code",
   "execution_count": null,
   "outputs": [],
   "source": [
    "smard_data_df.hist(figsize=(10,20), bins=30)"
   ],
   "metadata": {
    "collapsed": false
   },
   "id": "e329f346349d4ae9"
  },
  {
   "cell_type": "markdown",
   "source": [
    "### probe order of differencing"
   ],
   "metadata": {
    "collapsed": false
   },
   "id": "f8b77bb5b36f9da0"
  },
  {
   "cell_type": "code",
   "execution_count": null,
   "outputs": [],
   "source": [
    "for resource in smard_data.columns:\n",
    "    plot_acf(smard_data[resource].diff(), max_lag=24*7)\n",
    "    plot_acf(smard_data[resource], max_lag=24*7)\n",
    "    plt.show()"
   ],
   "metadata": {
    "collapsed": false
   },
   "id": "2b65e39d60d909f0"
  },
  {
   "cell_type": "markdown",
   "id": "226fa8a96a25cebd",
   "metadata": {
    "collapsed": false
   },
   "source": [
    "## load weather data (from solar & wind stations)"
   ]
  },
  {
   "cell_type": "code",
   "execution_count": null,
   "id": "7b3c2e2e8f73eac3",
   "metadata": {
    "collapsed": false
   },
   "outputs": [],
   "source": [
    "meteostat_solar_loader = MeteostatDataLoader(\n",
    "    file_paths=[\n",
    "        os.path.join(os.getcwd(), os.pardir, 'data', 'raw', 'weather_data_solar_stations.csv')\n",
    "    ],\n",
    "    solar=True\n",
    ")\n",
    "meteostat_solar_loader.load_data()\n",
    "meteostat_solar_loader.preprocess_data()\n",
    "solar_data = meteostat_solar_loader.data\n",
    "\n",
    "\n",
    "meteostat_wind_loader = MeteostatDataLoader(\n",
    "    file_paths=[\n",
    "        os.path.join(os.getcwd(), os.pardir, 'data', 'raw', 'weather_data_wind_stations.csv')\n",
    "    ],\n",
    "    wind=True\n",
    ")\n",
    "meteostat_wind_loader.load_data()\n",
    "meteostat_wind_loader.preprocess_data()\n",
    "wind_data = meteostat_wind_loader.data\n",
    "\n",
    "\n",
    "print(\"Missing values for wind\")\n",
    "for col in wind_data.columns:\n",
    "    print(f\"  Column {col} has {wind_data[col].isna().mean() * 100:0.2f}% missing values\")\n",
    "print(\"Missing values for solar\")\n",
    "for col in solar_data.columns:\n",
    "    print(f\"  Column {col} has {solar_data[col].isna().mean() * 100:0.2f}% missing values\")\n",
    "\n",
    "solar_data['time'] = pd.to_datetime(solar_data['time'])\n",
    "wind_data['time'] = pd.to_datetime(wind_data['time'])\n",
    "\n",
    "solar_data = solar_data.set_index('time')\n",
    "wind_data = wind_data.set_index('time')\n",
    "\n",
    "print(f\"Wind data index: {wind_data.index.min()} - {wind_data.index.max()}\")\n",
    "print(f\"Solar data index: {solar_data.index.min()} - {solar_data.index.max()}\")\n",
    "\n",
    "solar_data = TimeSeries.from_dataframe(\n",
    "    solar_data, \n",
    "    value_cols=list(solar_data.columns), \n",
    "    fill_missing_dates=True, \n",
    "    fillna_value=0, \n",
    "    freq='1H'\n",
    ")\n",
    "wind_data = TimeSeries.from_dataframe(\n",
    "    wind_data, \n",
    "    value_cols=list(wind_data.columns), \n",
    "    fill_missing_dates=True, \n",
    "    fillna_value=0, \n",
    "    freq='1H'\n",
    ")\n",
    "\n",
    "wind_data = wind_data.astype(np.float32)\n",
    "solar_data = solar_data.astype(np.float32)\n",
    "\n",
    "weather_data = solar_data.stack(wind_data)"
   ]
  },
  {
   "cell_type": "code",
   "execution_count": null,
   "id": "8f8853d3f0d4d870",
   "metadata": {
    "collapsed": false
   },
   "outputs": [],
   "source": [
    "weather_data[-24*7:].plot()"
   ]
  },
  {
   "cell_type": "code",
   "execution_count": null,
   "id": "1a8f06c35f71f0fb",
   "metadata": {
    "collapsed": false
   },
   "outputs": [],
   "source": [
    "smard_data[-24*7:].plot()"
   ]
  },
  {
   "cell_type": "markdown",
   "id": "a20a3add926a51ec",
   "metadata": {
    "collapsed": false
   },
   "source": [
    "## create time covariates"
   ]
  },
  {
   "cell_type": "code",
   "execution_count": null,
   "id": "dd87335ac759e72e",
   "metadata": {
    "collapsed": false
   },
   "outputs": [],
   "source": [
    "weekday = datetime_attribute_timeseries(weather_data, attribute=\"weekday\", dtype=np.float32)\n",
    "month = datetime_attribute_timeseries(weather_data, attribute=\"month\", dtype=np.float32)\n",
    "hour = datetime_attribute_timeseries(weather_data, attribute=\"hour\", dtype=np.float32)\n",
    "covariates_time = weekday.stack(hour).stack(month)\n",
    "\n",
    "scaler_covariates = Scaler()\n",
    "covariates_time = scaler_covariates.fit_transform(\n",
    "    covariates_time\n",
    ")"
   ]
  },
  {
   "cell_type": "code",
   "execution_count": null,
   "id": "57abff4298f77aa8",
   "metadata": {
    "collapsed": false
   },
   "outputs": [],
   "source": [
    "plt.figure(figsize=(12,2))\n",
    "covariates_time[-5*7*24:].plot()\n",
    "plt.title(\"Covariates Time\")"
   ]
  },
  {
   "cell_type": "markdown",
   "id": "b7c76d94cd8acb11",
   "metadata": {
    "collapsed": false
   },
   "source": [
    "## differencing of target series"
   ]
  },
  {
   "cell_type": "code",
   "execution_count": null,
   "id": "32055c9ed1fb3730",
   "metadata": {
    "collapsed": false
   },
   "outputs": [],
   "source": [
    "smard_differencing_transformer = Diff()\n",
    "differenced_smard_data = smard_differencing_transformer.fit_transform(smard_data)"
   ]
  },
  {
   "cell_type": "code",
   "execution_count": null,
   "id": "5d9a34b32f7fc8a9",
   "metadata": {
    "collapsed": false
   },
   "outputs": [],
   "source": [
    "differenced_smard_data[-24*30:].plot()"
   ]
  },
  {
   "cell_type": "code",
   "execution_count": null,
   "id": "33238370b3e73fe5",
   "metadata": {
    "collapsed": false
   },
   "outputs": [],
   "source": [
    "smard_data[-24*30:].plot()"
   ]
  },
  {
   "cell_type": "markdown",
   "id": "b4a8d3d4ec1f3aaf",
   "metadata": {
    "collapsed": false
   },
   "source": [
    "## train, val & test split of SMARD data"
   ]
  },
  {
   "cell_type": "code",
   "execution_count": null,
   "id": "91b20ca9fccefa92",
   "metadata": {
    "collapsed": false
   },
   "outputs": [],
   "source": [
    "test_split = 0.15\n",
    "val_split=0.15\n",
    "train_end_index = (1 - val_split - test_split) * len(differenced_smard_data)\n",
    "val_end_index = (1 - test_split) * len(differenced_smard_data)\n",
    "train_end_index, val_end_index = int(train_end_index), int(val_end_index)\n",
    "\n",
    "print(train_end_index, val_end_index)\n",
    "\n",
    "train, val, test = differenced_smard_data[:train_end_index], differenced_smard_data[train_end_index:val_end_index], differenced_smard_data[val_end_index:]\n",
    "\n",
    "# Cut train to start of weather data\n",
    "train = train[weather_data.start_time():]\n",
    "\n",
    "print(\"Train size: \", len(train))\n",
    "print(\"Val size: \", len(val))\n",
    "print(\"Test size: \", len(test))"
   ]
  },
  {
   "cell_type": "markdown",
   "id": "e2712901797c049b",
   "metadata": {
    "collapsed": false
   },
   "source": [
    "## train model on last week of training data"
   ]
  },
  {
   "cell_type": "code",
   "execution_count": null,
   "id": "7a3c25da0baf2143",
   "metadata": {
    "collapsed": false
   },
   "outputs": [],
   "source": [
    "def fit_model(model: VARIMA, train: TimeSeries, covariates: TimeSeries):\n",
    "    covariate_args = get_covariate_args(\n",
    "        model=model,\n",
    "        covariates=covariates,\n",
    "    )[0]\n",
    "    model.fit(series=train, future_covariates=covariate_args['future_covariates'])\n",
    "    model.save()"
   ]
  },
  {
   "cell_type": "code",
   "execution_count": null,
   "id": "15330a53000ec76f",
   "metadata": {
    "collapsed": false
   },
   "outputs": [],
   "source": [
    "varima_model = VARIMA()\n",
    "last_n_samples = -24*7\n",
    "fit_model(varima_model, train[last_n_samples:], covariates_time.stack(weather_data)[train[last_n_samples:].start_time():])"
   ]
  },
  {
   "cell_type": "code",
   "execution_count": null,
   "id": "756d81fc76507107",
   "metadata": {
    "collapsed": false
   },
   "outputs": [],
   "source": [
    "def predict_model(model: VARIMA, n: int, covariates: TimeSeries):\n",
    "    covariate_args = get_covariate_args(\n",
    "        model=model,\n",
    "        covariates=covariates,\n",
    "    )[0]\n",
    "    return model.predict(n=n, future_covariates=covariate_args['future_covariates'])"
   ]
  },
  {
   "cell_type": "markdown",
   "id": "1f217a3eb35506c2",
   "metadata": {
    "collapsed": false
   },
   "source": [
    "## predict the next 24 hours"
   ]
  },
  {
   "cell_type": "code",
   "execution_count": null,
   "id": "2f8972ebdf15a0f3",
   "metadata": {
    "collapsed": false
   },
   "outputs": [],
   "source": [
    "differenced_predictions = predict_model(varima_model, 24, covariates_time.stack(weather_data)[train[last_n_samples:].start_time():])\n",
    "differenced_predictions.start_time(), differenced_predictions.end_time()"
   ]
  },
  {
   "cell_type": "code",
   "execution_count": null,
   "id": "3a12af41c858a25c",
   "metadata": {
    "collapsed": false
   },
   "outputs": [],
   "source": [
    "differenced_predictions.components"
   ]
  },
  {
   "cell_type": "code",
   "execution_count": null,
   "id": "a31b90df3ea9f733",
   "metadata": {
    "collapsed": false
   },
   "outputs": [],
   "source": [
    "val.start_time(), val.end_time()"
   ]
  },
  {
   "cell_type": "markdown",
   "id": "29c844f99a2144b0",
   "metadata": {
    "collapsed": false
   },
   "source": [
    "### invert differenced predictions & validation set"
   ]
  },
  {
   "cell_type": "code",
   "execution_count": null,
   "id": "869de4af800fdd4d",
   "metadata": {
    "collapsed": false
   },
   "outputs": [],
   "source": [
    "predictions = smard_differencing_transformer.inverse_transform(train.append(differenced_predictions))[differenced_predictions.start_time():]"
   ]
  },
  {
   "cell_type": "code",
   "execution_count": null,
   "id": "3b59f1fd03d587c6",
   "metadata": {
    "collapsed": false
   },
   "outputs": [],
   "source": [
    "predictions"
   ]
  },
  {
   "cell_type": "markdown",
   "id": "3b8b09b2804b8319",
   "metadata": {
    "collapsed": false
   },
   "source": [
    "Note: since `inverse_transform()` renames components of `differenced_predictions` and `val` we have to manually reset them"
   ]
  },
  {
   "cell_type": "code",
   "execution_count": null,
   "id": "7f93d256956f41b2",
   "metadata": {
    "collapsed": false
   },
   "outputs": [],
   "source": [
    "def replace_components(series: TimeSeries, columns: pd.Index) -> TimeSeries:\n",
    "    series_df = series.pd_dataframe()\n",
    "    series_df.columns = columns\n",
    "    return TimeSeries.from_dataframe(series_df)"
   ]
  },
  {
   "cell_type": "code",
   "execution_count": null,
   "id": "f95492571af11cc1",
   "metadata": {
    "collapsed": false
   },
   "outputs": [],
   "source": [
    "predictions = replace_components(predictions, differenced_predictions.columns)\n",
    "predictions"
   ]
  },
  {
   "cell_type": "code",
   "execution_count": null,
   "id": "5659121c8757327b",
   "metadata": {
    "collapsed": false
   },
   "outputs": [],
   "source": [
    "val_inverted_trimmed = smard_differencing_transformer.inverse_transform(train.append(val))[predictions.start_time():predictions.end_time()]\n",
    "val_inverted_trimmed.start_time(), val_inverted_trimmed.end_time()"
   ]
  },
  {
   "cell_type": "code",
   "execution_count": null,
   "id": "372f87731ca52685",
   "metadata": {
    "collapsed": false
   },
   "outputs": [],
   "source": [
    "val_inverted_trimmed = replace_components(val_inverted_trimmed, differenced_predictions.columns)\n",
    "val_inverted_trimmed"
   ]
  },
  {
   "cell_type": "markdown",
   "source": [
    "### plot predictions & actual values and calculate RMSE"
   ],
   "metadata": {
    "collapsed": false
   },
   "id": "24eb83956ae6ed84"
  },
  {
   "cell_type": "code",
   "execution_count": null,
   "id": "2fab9a474350f6d0",
   "metadata": {
    "collapsed": false
   },
   "outputs": [],
   "source": [
    "for prediction_column, val_column in zip(predictions.columns, val_inverted_trimmed.columns):\n",
    "    assert prediction_column == val_column\n",
    "for prediction_column, val_column in zip(predictions.columns, val_inverted_trimmed.columns):\n",
    "    plt.figure()\n",
    "    predictions[prediction_column].plot(label='predictions')\n",
    "    val_inverted_trimmed[val_column].plot(label='actual')\n",
    "    plt.title(prediction_column)\n",
    "    plt.show()\n",
    "print(f'RMSE: {rmse(val_inverted_trimmed, predictions)}')"
   ]
  },
  {
   "cell_type": "markdown",
   "source": [
    "## optimize VARIMA model via optuna"
   ],
   "metadata": {
    "collapsed": false
   },
   "id": "1b95e2fa9acdf2ab"
  },
  {
   "cell_type": "code",
   "execution_count": null,
   "outputs": [],
   "source": [
    "# TODO: adjust this parameter for training duration\n",
    "# it simply takes the last n samples of the training data as actual training data since VARIMA training lasts quite long on CPU\n",
    "last_n_samples = 3*24\n",
    "\n",
    "# optimizing function\n",
    "def objective(trial):\n",
    "\n",
    "    p = trial.suggest_int('p', 0, 2)\n",
    "    d = trial.suggest_int('d', 0, 1)\n",
    "    q = trial.suggest_int('q', 0, 2)\n",
    "    if p == 0 and q == 0:\n",
    "        p = random.randint(0, 1)\n",
    "        q = 1 - p\n",
    "    trend = trial.suggest_categorical('trend', ['n', 'c', 't', 'ct', None])\n",
    "\n",
    "    print(f\"Trialing with {trial.params}\")\n",
    "\n",
    "    optimizing_model = VARIMA(p=p, d=d, q=q, trend=trend)\n",
    "\n",
    "    fit_model(optimizing_model, train[-last_n_samples:], covariates_time.stack(weather_data)[train[-last_n_samples:].start_time():])\n",
    "\n",
    "    eval_result = cross_validation_without_refit(\n",
    "        model=optimizing_model,\n",
    "        series=train.concatenate(val),\n",
    "        start=val.start_time(),\n",
    "        metrics=[rmse],\n",
    "        data_scaler=smard_differencing_transformer,\n",
    "        covariates=covariates_time.stack(weather_data),\n",
    "        max_n_split=5,\n",
    "        forecast_horizon=24,\n",
    "        plotting=False\n",
    "    )\n",
    "\n",
    "    eval_rmse = eval_result['rmse']\n",
    "    print(f\"Eval RMSE: {eval_rmse}\")\n",
    "\n",
    "    return eval_rmse"
   ],
   "metadata": {
    "collapsed": false
   },
   "id": "9ba26dfc7e514312"
  },
  {
   "cell_type": "code",
   "execution_count": null,
   "outputs": [],
   "source": [
    "study = optuna.create_study(direction='minimize')\n",
    "study.optimize(objective, n_trials=5)"
   ],
   "metadata": {
    "collapsed": false
   },
   "id": "2c2b91e804ade9c5"
  },
  {
   "cell_type": "code",
   "execution_count": null,
   "outputs": [],
   "source": [
    "study.best_params"
   ],
   "metadata": {
    "collapsed": false
   },
   "id": "70c2847ac2b6b325"
  },
  {
   "cell_type": "code",
   "execution_count": null,
   "outputs": [],
   "source": [
    "best_params = study.best_params\n",
    "print(f\"Best params: {best_params}\")\n",
    "\n",
    "final_model = VARIMA(**best_params)\n",
    "\n",
    "# TODO: adjust this parameter like above\n",
    "last_n_samples = 3*24\n",
    "fit_model(model=final_model, train=train.concatenate(val)[-last_n_samples:], covariates=covariates_time.stack(weather_data)[train.concatenate(val)[-last_n_samples:].start_time():])\n",
    "\n",
    "# Evaluate\n",
    "eval_result = cross_validation_without_refit(\n",
    "    model=final_model,\n",
    "    series=train.concatenate(val.concatenate(test)),\n",
    "    start=test.start_time(),\n",
    "    metrics=[rmse],\n",
    "    data_scaler=smard_differencing_transformer,\n",
    "    covariates=covariates_time.stack(weather_data),\n",
    "    max_n_split=5,\n",
    "    forecast_horizon=24,\n",
    "    plotting=False\n",
    ") \n",
    "\n",
    "eval_rmse = eval_result['rmse']\n",
    "print(f\"Eval RMSE: {eval_rmse}\")"
   ],
   "metadata": {
    "collapsed": false
   },
   "id": "45f160281815afe2"
  },
  {
   "cell_type": "code",
   "execution_count": null,
   "outputs": [],
   "source": [],
   "metadata": {
    "collapsed": false
   },
   "id": "c522d582e6b9e6c3"
  }
 ],
 "metadata": {
  "kernelspec": {
   "display_name": "Python 3 (ipykernel)",
   "language": "python",
   "name": "python3"
  },
  "language_info": {
   "codemirror_mode": {
    "name": "ipython",
    "version": 3
   },
   "file_extension": ".py",
   "mimetype": "text/x-python",
   "name": "python",
   "nbconvert_exporter": "python",
   "pygments_lexer": "ipython3",
   "version": "3.10.13"
  }
 },
 "nbformat": 4,
 "nbformat_minor": 5
}
