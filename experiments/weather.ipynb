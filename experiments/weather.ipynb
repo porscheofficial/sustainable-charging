{
 "cells": [
  {
   "cell_type": "code",
   "execution_count": 2,
   "id": "fe84518a-1772-4ed4-8885-c74e6f067dff",
   "metadata": {},
   "outputs": [
    {
     "name": "stdout",
     "output_type": "stream",
     "text": [
      "Collecting meteostat\n",
      "  Downloading meteostat-1.6.7-py3-none-any.whl.metadata (4.6 kB)\n",
      "Requirement already satisfied: pandas>=1.1 in /Users/mostafaelgayar/miniforge3/envs/aip-porsche/lib/python3.10/site-packages (from meteostat) (2.1.3)\n",
      "Requirement already satisfied: pytz in /Users/mostafaelgayar/miniforge3/envs/aip-porsche/lib/python3.10/site-packages (from meteostat) (2023.3.post1)\n",
      "Requirement already satisfied: numpy in /Users/mostafaelgayar/miniforge3/envs/aip-porsche/lib/python3.10/site-packages (from meteostat) (1.26.0)\n",
      "Requirement already satisfied: python-dateutil>=2.8.2 in /Users/mostafaelgayar/miniforge3/envs/aip-porsche/lib/python3.10/site-packages (from pandas>=1.1->meteostat) (2.8.2)\n",
      "Requirement already satisfied: tzdata>=2022.1 in /Users/mostafaelgayar/miniforge3/envs/aip-porsche/lib/python3.10/site-packages (from pandas>=1.1->meteostat) (2023.3)\n",
      "Requirement already satisfied: six>=1.5 in /Users/mostafaelgayar/miniforge3/envs/aip-porsche/lib/python3.10/site-packages (from python-dateutil>=2.8.2->pandas>=1.1->meteostat) (1.16.0)\n",
      "Downloading meteostat-1.6.7-py3-none-any.whl (31 kB)\n",
      "Installing collected packages: meteostat\n",
      "Successfully installed meteostat-1.6.7\n",
      "Note: you may need to restart the kernel to use updated packages.\n"
     ]
    }
   ],
   "source": [
    "pip install meteostat"
   ]
  },
  {
   "cell_type": "code",
   "execution_count": 19,
   "id": "d5cdccc9-18d7-47f7-9671-4332af866d80",
   "metadata": {
    "scrolled": true
   },
   "outputs": [],
   "source": [
    "from datetime import datetime\n",
    "from meteostat import Point, Hourly, Stations"
   ]
  },
  {
   "cell_type": "code",
   "execution_count": 45,
   "id": "67655c6a-05a1-455a-bd6d-37ed3fb57d8e",
   "metadata": {},
   "outputs": [
    {
     "name": "stdout",
     "output_type": "stream",
     "text": [
      "1219\n"
     ]
    }
   ],
   "source": [
    "stations = Stations()\n",
    "stations = stations.region('DE')\n",
    "stations_list = stations.fetch()\n",
    "\n",
    "stations_count = stations.count()\n",
    "print(stations_count)"
   ]
  },
  {
   "cell_type": "code",
   "execution_count": 49,
   "id": "b58b8b44-0f10-49ff-b356-5ab4cb747994",
   "metadata": {},
   "outputs": [],
   "source": [
    "# for the last 4 days (start @ 00:00 to end @ 00:00) -- which means the data of end day is not included.\n",
    "\n",
    "start = datetime(2023, 11, 13)\n",
    "end = datetime(2023, 11, 17)"
   ]
  },
  {
   "cell_type": "code",
   "execution_count": null,
   "id": "771392b1-5091-4c82-99ba-e0f1af131229",
   "metadata": {},
   "outputs": [],
   "source": [
    "# center and radius can be optionally used by passing center_of_germany instead of stations_list, but using stations should be more reliable\n",
    "\n",
    "# center_of_germany = Point(50.9680761,10.3796685)\n",
    "# center_of_germany.radius = 337889 # approximated radius\n",
    "# center_of_germany.max_count = stations_count\n",
    "\n",
    "data = Hourly(stations_list, start, end)\n",
    "\n",
    "# normalize method makes sure that gaps in the time series are filled (https://dev.meteostat.net/python/api/timeseries/normalize.html)\n",
    "data = data.normalize() \n",
    "\n",
    "# setting the 'Spatial' to True will calculate averages across all the weather stations (https://dev.meteostat.net/python/api/timeseries/aggregate.html)\n",
    "data = data.aggregate('1H', True)\t\n",
    "\n",
    "data = data.fetch()"
   ]
  },
  {
   "cell_type": "code",
   "execution_count": 48,
   "id": "34b1c0a1-0888-41c7-a1f7-d23c6717d99e",
   "metadata": {},
   "outputs": [
    {
     "name": "stdout",
     "output_type": "stream",
     "text": [
      "                     temp  dwpt  rhum  prcp  snow   wdir  wspd  wpgt    pres  \\\n",
      "time                                                                           \n",
      "2023-11-13 00:00:00   4.2   3.3  93.6   0.2   2.3  204.6  10.6  17.3  1011.1   \n",
      "2023-11-13 01:00:00   4.3   3.4  94.1   0.2   2.2  198.7  10.7  17.3  1010.9   \n",
      "2023-11-13 02:00:00   4.3   3.5  94.5   0.2   2.2  192.3  11.0  17.1  1010.8   \n",
      "2023-11-13 03:00:00   4.4   3.6  94.6   0.2   2.2  190.1  11.7  17.6  1010.6   \n",
      "2023-11-13 04:00:00   4.6   3.7  94.5   0.3   2.2  188.1  12.4  18.3  1010.5   \n",
      "...                   ...   ...   ...   ...   ...    ...   ...   ...     ...   \n",
      "2023-11-16 20:00:00   4.9   3.7  91.9   0.6   0.2  143.7  12.0  22.7  1009.3   \n",
      "2023-11-16 21:00:00   4.7   3.5  92.4   0.6   0.3  153.7  12.2  23.0  1009.5   \n",
      "2023-11-16 22:00:00   4.4   3.4  92.9   0.7   0.3  179.2  12.5  23.4  1009.8   \n",
      "2023-11-16 23:00:00   4.2   3.2  93.4   0.5   0.3  208.4  13.0  23.6  1010.1   \n",
      "2023-11-17 00:00:00   4.0   3.1  94.0   0.5   0.4  240.1  13.7  24.4  1010.8   \n",
      "\n",
      "                     tsun  coco  \n",
      "time                             \n",
      "2023-11-13 00:00:00   0.0   4.4  \n",
      "2023-11-13 01:00:00   0.0   4.4  \n",
      "2023-11-13 02:00:00   0.0   4.6  \n",
      "2023-11-13 03:00:00   0.0   4.8  \n",
      "2023-11-13 04:00:00   0.0   4.8  \n",
      "...                   ...   ...  \n",
      "2023-11-16 20:00:00   0.0   5.8  \n",
      "2023-11-16 21:00:00   0.0   5.7  \n",
      "2023-11-16 22:00:00   0.0   5.5  \n",
      "2023-11-16 23:00:00   0.0   5.4  \n",
      "2023-11-17 00:00:00   0.0   5.4  \n",
      "\n",
      "[97 rows x 11 columns]\n"
     ]
    }
   ],
   "source": [
    "print(data)"
   ]
  },
  {
   "cell_type": "code",
   "execution_count": null,
   "id": "fa1db221-d921-4094-a2eb-6975eb518ebb",
   "metadata": {},
   "outputs": [],
   "source": []
  }
 ],
 "metadata": {
  "kernelspec": {
   "display_name": "Python 3 (ipykernel)",
   "language": "python",
   "name": "python3"
  },
  "language_info": {
   "codemirror_mode": {
    "name": "ipython",
    "version": 3
   },
   "file_extension": ".py",
   "mimetype": "text/x-python",
   "name": "python",
   "nbconvert_exporter": "python",
   "pygments_lexer": "ipython3",
   "version": "3.10.13"
  }
 },
 "nbformat": 4,
 "nbformat_minor": 5
}
