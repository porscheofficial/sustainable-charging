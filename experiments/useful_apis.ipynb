{
 "cells": [
  {
   "cell_type": "markdown",
   "metadata": {},
   "source": [
    "# Useful APIs"
   ]
  },
  {
   "cell_type": "markdown",
   "metadata": {},
   "source": [
    "General Note: The [`deutschland` python package](https://pypi.org/project/deutschland/) provides access to the APIs from bund.dev."
   ]
  },
  {
   "cell_type": "markdown",
   "metadata": {},
   "source": [
    "## Charging Stations"
   ]
  },
  {
   "cell_type": "markdown",
   "metadata": {},
   "source": [
    "### Bundesnetzagentur: Ladesäulenregister\n",
    "\n",
    "[documentation](https://ladestationen.api.bund.dev/)\n",
    "\n",
    "**pricing:** free"
   ]
  },
  {
   "cell_type": "code",
   "execution_count": null,
   "metadata": {},
   "outputs": [],
   "source": [
    "import json\n",
    "from pprint import pprint\n",
    "from deutschland.ladestationen.api import default_api\n",
    "\n",
    "api_instance = default_api.DefaultApi()\n",
    "\n",
    "# geometry uses EPSG:3857 coordinates\n",
    "geometry = {\n",
    "    \"xmin\": 1474699.586706,\n",
    "    \"ymin\": 6899741.232218,\n",
    "    \"xmax\": 1510166.367830,\n",
    "    \"ymax\": 6874134.827742,\n",
    "}\n",
    "api_response = api_instance.query_get(json.dumps(geometry), f=\"json\", _check_return_type=False) # disabled checking the return types as a workaround for https://github.com/bundesAPI/ladestationen-api/issues/2\n",
    "pprint(api_response)"
   ]
  },
  {
   "cell_type": "markdown",
   "metadata": {},
   "source": [
    "### Autobahn App API\n",
    "\n",
    "[documentation](https://autobahn.api.bund.dev/)\n",
    "\n",
    "**pricing:** free"
   ]
  },
  {
   "cell_type": "code",
   "execution_count": null,
   "metadata": {},
   "outputs": [],
   "source": [
    "from pprint import pprint\n",
    "from deutschland.autobahn.api import default_api\n",
    "\n",
    "api_instance = default_api.DefaultApi()\n",
    "station_id = \"RUxFQ1RSSUNfQ0hBUkdJTkdfU1RBVElPTl9fMTczMzM=\"\n",
    "api_response = api_instance.get_charging_station(station_id)\n",
    "pprint(api_response)"
   ]
  },
  {
   "cell_type": "markdown",
   "metadata": {},
   "source": [
    "### GoingElectric\n",
    "\n",
    "[documentation](https://www.goingelectric.de/stromtankstellen/api/docs/)\n",
    "\n",
    "**pricing:** unknown, but requires login/API key"
   ]
  },
  {
   "cell_type": "markdown",
   "metadata": {},
   "source": [
    "## Energy Mix"
   ]
  },
  {
   "cell_type": "markdown",
   "metadata": {},
   "source": [
    "### Bundesnetzagentur: Strommarktdaten (SMARD)\n",
    "\n",
    "[documentation](https://smard.api.bund.dev/)\n",
    "\n",
    "**pricing:** free"
   ]
  },
  {
   "cell_type": "code",
   "execution_count": null,
   "metadata": {},
   "outputs": [],
   "source": [
    "\n",
    "from pprint import pprint\n",
    "from deutschland.smard.api import default_api\n",
    "from datetime import datetime\n",
    "\n",
    "api_instance = default_api.DefaultApi()\n",
    "filter_id = 1223\n",
    "region = \"DE\"\n",
    "timestamp = int(datetime(2021, 8, 2).timestamp()) * 1000\n",
    "\n",
    "api_response = api_instance.filter_region_filter_copy_region_copy_resolution_timestamp_json_get(filter_id, filter_id, region, timestamp)\n",
    "results = [[datetime.fromtimestamp(int(ts / 1000)), val] for [ts, val] in api_response[\"series\"]]\n",
    "pprint(results)"
   ]
  },
  {
   "cell_type": "markdown",
   "metadata": {},
   "source": [
    "### Electricity Maps\n",
    "\n",
    "[documentation](https://static.electricitymaps.com/api/docs/index.html)\n",
    "\n",
    "**[pricing](https://www.electricitymaps.com/pricing):**\n",
    "- free for non-commercial use\n",
    "- 500€/month per zone for commercial use"
   ]
  },
  {
   "cell_type": "markdown",
   "metadata": {},
   "source": [
    "### Energy-Charts\n",
    "\n",
    "[documentation](https://api.energy-charts.info/)\n",
    "\n",
    "**pricing:** found none, probably free"
   ]
  },
  {
   "cell_type": "code",
   "execution_count": null,
   "metadata": {},
   "outputs": [],
   "source": [
    "import requests\n",
    "from datetime import datetime\n",
    "import pandas as pd\n",
    "\n",
    "API_ROOT = \"https://api.energy-charts.info\"\n",
    "\n",
    "params = {\"country\": \"de\", \"start\": datetime(2023, 1, 1), \"end\": datetime(2023, 2, 1)}\n",
    "response = requests.get(f\"{API_ROOT}/public_power\", params=params)\n",
    "response_dict = response.json()\n",
    "dt_index = pd.DatetimeIndex(pd.to_datetime(response_dict[\"unix_seconds\"], unit=\"s\"))\n",
    "df = pd.DataFrame({t[\"name\"]: t[\"data\"] for t in response_dict[\"production_types\"]}, index=dt_index)\n",
    "df"
   ]
  },
  {
   "cell_type": "markdown",
   "metadata": {},
   "source": [
    "# Weather"
   ]
  },
  {
   "cell_type": "markdown",
   "metadata": {},
   "source": [
    "### DWD\n",
    "\n",
    "[documentation](https://dwd.api.bund.dev/)\n",
    "\n",
    "**pricing:** free with copyright"
   ]
  },
  {
   "cell_type": "markdown",
   "metadata": {},
   "source": [
    "### wetterdienst (pre 1.0 release)\n",
    "\n",
    "[documentation](https://wetterdienst.readthedocs.io/en/latest/)\n",
    "\n",
    "**pricing:** free\n",
    "\n",
    "[code examples](https://wetterdienst.readthedocs.io/en/latest/usage/python-examples.html)"
   ]
  },
  {
   "cell_type": "markdown",
   "metadata": {},
   "source": [
    "### IBM Environmental Intelligence Suite\n",
    "\n",
    "[documentation](https://www.ibm.com/products/environmental-intelligence-suite/apis)\n",
    "\n",
    "**[pricing](https://www.ibm.com/products/environmental-intelligence-suite/pricing):**\n",
    "- different tiers, starting at 500 USD/month"
   ]
  },
  {
   "cell_type": "markdown",
   "metadata": {},
   "source": [
    "### visualcrossing\n",
    "\n",
    "[documentation](https://www.visualcrossing.com/resources/documentation/weather-api/timeline-weather-api/)\n",
    "\n",
    "**[pricing](https://www.visualcrossing.com/weather-data-editions):**\n",
    "- free tier\n",
    "- different paid tiers with more features"
   ]
  }
 ],
 "metadata": {
  "kernelspec": {
   "display_name": "Python 3",
   "language": "python",
   "name": "python3"
  },
  "language_info": {
   "codemirror_mode": {
    "name": "ipython",
    "version": 3
   },
   "file_extension": ".py",
   "mimetype": "text/x-python",
   "name": "python",
   "nbconvert_exporter": "python",
   "pygments_lexer": "ipython3",
   "version": "3.11.5"
  }
 },
 "nbformat": 4,
 "nbformat_minor": 2
}
