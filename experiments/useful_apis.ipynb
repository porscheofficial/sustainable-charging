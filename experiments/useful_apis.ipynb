{
 "cells": [
  {
   "cell_type": "markdown",
   "metadata": {},
   "source": [
    "# Useful APIs"
   ]
  },
  {
   "cell_type": "markdown",
   "metadata": {},
   "source": [
    "General Note: The [`deutschland` python package](https://pypi.org/project/deutschland/) provides access to the APIs from bund.dev."
   ]
  },
  {
   "cell_type": "markdown",
   "metadata": {},
   "source": [
    "## Charging Stations"
   ]
  },
  {
   "cell_type": "markdown",
   "metadata": {},
   "source": [
    "### Bundesnetzagentur: Ladesäulenregister\n",
    "\n",
    "[documentation](https://ladestationen.api.bund.dev/)\n",
    "\n",
    "**pricing:** free\n",
    "\n",
    "routes: `/query`: returns charging stations at a given location\n",
    "\n",
    "attributes of a charging station:\n",
    "\n",
    "- `ID`\n",
    "- `Betreiber_`\n",
    "- `Standort_`\n",
    "- `Längengrad_`\n",
    "- `Breitengrad_`\n",
    "- `für_die_Überschrift_`\n",
    "- `Anzahl_Ladepunkte_`\n",
    "- `Art_des_Ladepunktes_`\n",
    "- `AC_Steckdose_Typ_2__1_`\n",
    "- `AC_Kupplung_Typ_2__1_`\n",
    "- `DC_Kupplung_Combo__1_`\n",
    "- `AC_Schuko__1_`\n",
    "- `AC_CEE_5_polig__1_`\n",
    "- `AC_CEE_3_polig__1_`\n",
    "- `DC_CHAdeMO__1_`\n",
    "- `Sonstige_Stecker__1_`\n",
    "- `Nennleistung_Ladepunkt_1_`\n",
    "- `Public_Key__1_`\n",
    "- `Art_des_Ladepunktes_2_`\n",
    "- `AC_Steckdose_Typ_2__2_`\n",
    "- `AC_Kupplung_Typ_2__2_`\n",
    "- `DC_Kupplung_Combo__2_`\n",
    "- `AC_Schuko__2_`\n",
    "- `AC_CEE_5_polig__2_`\n",
    "- `AC_CEE_3_polig__2_`\n",
    "- `DC_CHAdeMO__2_`\n",
    "- `Sonstige_Stecker__2_`\n",
    "- `Nennleistung_Ladepunkt_2_`\n",
    "- `Public_Key__2_`\n",
    "- `Art_des_Ladepunktes_3_`\n",
    "- `AC_Steckdose_Typ_2__3_`\n",
    "- `AC_Kupplung_Typ_2__3_`\n",
    "- `DC_Kupplung_Combo__3_`\n",
    "- `AC_Schuko__3_`\n",
    "- `AC_CEE_5_polig__3_`\n",
    "- `AC_CEE_3_polig__3_`\n",
    "- `DC_CHAdeMO__3_`\n",
    "- `Sonstige_Stecker__3_`\n",
    "- `Nennleistung_Ladepunkt_3_`\n",
    "- `Public_Key__3_`\n",
    "- `Art_des_Ladepunktes_4_`\n",
    "- `AC_Steckdose_Typ_2__4_`\n",
    "- `AC_Kupplung_Typ_2__4_`\n",
    "- `DC_Kupplung_Combo__4_`\n",
    "- `AC_Schuko__4_`\n",
    "- `AC_CEE_5_polig__4_`\n",
    "- `AC_CEE_3_polig__4_`\n",
    "- `DC_CHAdeMO__4_`\n",
    "- `Sonstige_Stecker__4_`\n",
    "- `Nennleistung_Ladepunkt_4_`\n",
    "- `Public_Key__4_`\n",
    "- `OBJECTID`"
   ]
  },
  {
   "cell_type": "code",
   "execution_count": null,
   "metadata": {},
   "outputs": [],
   "source": [
    "import json\n",
    "from pprint import pprint\n",
    "from deutschland.ladestationen.api import default_api\n",
    "\n",
    "api_instance = default_api.DefaultApi()\n",
    "\n",
    "# geometry uses EPSG:3857 coordinates\n",
    "geometry = {\n",
    "    \"xmin\": 1474699.586706,\n",
    "    \"ymin\": 6899741.232218,\n",
    "    \"xmax\": 1510166.367830,\n",
    "    \"ymax\": 6874134.827742,\n",
    "}\n",
    "response = api_instance.query_get(json.dumps(geometry), f=\"json\", _check_return_type=False) # disabled checking the return types as a workaround for https://github.com/bundesAPI/ladestationen-api/issues/2\n",
    "pprint(response)"
   ]
  },
  {
   "cell_type": "markdown",
   "metadata": {},
   "source": [
    "### Autobahn App API\n",
    "\n",
    "[documentation](https://autobahn.api.bund.dev/)\n",
    "\n",
    "**pricing:** free\n",
    "\n",
    "routes (only relevant):\n",
    "\n",
    "- `/{roadId}/services/electric_charging_station`: returns a list of charging stations on a given road\n",
    "- `/details/electric_charging_station/{stationId}`: returns information for a given charging station\n",
    "\n",
    "attributes of a charging station:\n",
    "\n",
    "- `extent`\n",
    "- `identifier`\n",
    "- `routeRecommendation`\n",
    "- `coordinate`\n",
    "- `footer`\n",
    "- `icon`\n",
    "- `isBlocked`\n",
    "- `description`\n",
    "- `title`\n",
    "- `point`\n",
    "- `display_type`\n",
    "- `lorryParkingFeatureIcons`\n",
    "- `future`\n",
    "- `subtitle`"
   ]
  },
  {
   "cell_type": "code",
   "execution_count": null,
   "metadata": {},
   "outputs": [],
   "source": [
    "from pprint import pprint\n",
    "from deutschland.autobahn.api import default_api\n",
    "\n",
    "api_instance = default_api.DefaultApi()\n",
    "station_id = \"RUxFQ1RSSUNfQ0hBUkdJTkdfU1RBVElPTl9fMTczMzM=\"\n",
    "response = api_instance.get_charging_station(station_id)\n",
    "pprint(response)"
   ]
  },
  {
   "cell_type": "markdown",
   "metadata": {},
   "source": [
    "### GoingElectric\n",
    "\n",
    "[documentation](https://www.goingelectric.de/stromtankstellen/api/docs/)\n",
    "\n",
    "**pricing:** unknown, but requires [registration](https://www.goingelectric.de/stromtankstellen/api/new/)\n",
    "\n",
    "seems to have more info than Ladesäulenregister (see documentation)"
   ]
  },
  {
   "cell_type": "markdown",
   "metadata": {},
   "source": [
    "## Energy Mix"
   ]
  },
  {
   "cell_type": "markdown",
   "metadata": {},
   "source": [
    "### Bundesnetzagentur: Strommarktdaten (SMARD)\n",
    "\n",
    "[documentation](https://smard.api.bund.dev/)\n",
    "\n",
    "**pricing:** free\n",
    "\n",
    "routes:\n",
    "\n",
    "- `/chart_data/{filter}/{region}/index_{resolution}.json`: returns available timestamps for given filter, region and resolution\n",
    "- `/chart_data/{filter}/{region}/{filterCopy}_{regionCopy}_{resolution}_{timestamp}.json`: returns data for given filter, region and resolution, for 7 days starting from timestamp\n",
    "- `/table_data/{filter}/{region}/{filterCopy}_{regionCopy}_quarterhour_{timestamp}.json`: returns quarterhourly data for given filter and region, for 7 days starting from timestamp (different format)\n",
    "\n",
    "supported filters of interest:\n",
    "\n",
    "- Power Production: Lignite\n",
    "- Power Production: Hard coal\n",
    "- Power Production: Natural gas\n",
    "- Power Production: Nuclear\n",
    "- Power Production: Other Conventional\n",
    "- Power Production: Biomass\n",
    "- Power Production: Hydroelectric\n",
    "- Power Production: Photovoltaic\n",
    "- Power Production: Wind offshore\n",
    "- Power Production: Wind onshore\n",
    "- Power Production: Other Renewables\n",
    "- Power Production: Pumped storage\n",
    "\n",
    "supported regions of interest:\n",
    "\n",
    "- DE as a whole\n",
    "- energy provider zones:\n",
    "  - 50Hertz\n",
    "  - Amprion\n",
    "  - TenneT\n",
    "  - TransnetBW"
   ]
  },
  {
   "cell_type": "code",
   "execution_count": null,
   "metadata": {},
   "outputs": [],
   "source": [
    "\n",
    "from pprint import pprint\n",
    "from deutschland.smard.api import default_api\n",
    "from datetime import datetime\n",
    "\n",
    "api_instance = default_api.DefaultApi()\n",
    "filter_id = 1223\n",
    "region = \"DE\"\n",
    "timestamp = int(datetime(2021, 8, 2).timestamp()) * 1000\n",
    "\n",
    "response = api_instance.filter_region_filter_copy_region_copy_resolution_timestamp_json_get(filter_id, filter_id, region, timestamp)\n",
    "results = [[datetime.fromtimestamp(int(ts / 1000)), val] for [ts, val] in response[\"series\"]]\n",
    "pprint(results)"
   ]
  },
  {
   "cell_type": "markdown",
   "metadata": {},
   "source": [
    "### Electricity Maps\n",
    "\n",
    "[documentation](https://static.electricitymaps.com/api/docs/index.html)\n",
    "\n",
    "**[pricing](https://www.electricitymaps.com/pricing):**\n",
    "- free for non-commercial use\n",
    "- 500€/month per zone for commercial use"
   ]
  },
  {
   "cell_type": "markdown",
   "metadata": {},
   "source": [
    "### Energy-Charts\n",
    "\n",
    "[documentation](https://api.energy-charts.info/)\n",
    "\n",
    "**pricing:** free for non-commercial use, commercial use requires prior approval by\n",
    "\n",
    "```\n",
    "Fraunhofer Institute for Solar Energy Systems ISE\n",
    "Heidenhofstr. 2\n",
    "79110 Freiburg\n",
    "Tel +49 761 4588-0\n",
    "Fax +49 761 4588-9000\n",
    "```\n",
    "\n",
    "> Permission is granted to download or print material published on this site for personal use only. Its use for any other purpose, and in particular its commercial use or distribution, are strictly forbidden in the absence of prior written approval.\n",
    "\n",
    "routes:\n",
    "\n",
    "- `/public_power`: Returns the public electricity production for a given country for each production type.\n",
    "  ```\n",
    "  {\n",
    "    \"unix_seconds\": list[int]\n",
    "    \"production_types\": [\n",
    "      {\n",
    "          \"name\": str,\n",
    "          \"data\": list[float]\n",
    "      }\n",
    "    ]\n",
    "  }\n",
    "  ```\n",
    "- `/ren_share_forecast`: Returns the renewable share of load forecast in percent from today until prediction is currently available.\n",
    "  ```\n",
    "  {\n",
    "    \"unix_seconds\": [int],\n",
    "    \"ren_share\": [float],\n",
    "    \"solar_share\": [float],\n",
    "    \"wind_onshore_share\": [float],\n",
    "    \"wind_offshore_share\": [float],\n",
    "    \"substitute\": bool\n",
    "  }\n",
    "  ```\n",
    "- `/ren_share_daily_avg`: Returns the average daily renewable share of load of the last 365 days\n",
    "  ```\n",
    "  {\n",
    "    \"days\": [\"dd.mm.yyyy\"],\n",
    "    \"data\": [float]\n",
    "  }\n",
    "  ```"
   ]
  },
  {
   "cell_type": "code",
   "execution_count": null,
   "metadata": {},
   "outputs": [],
   "source": [
    "import requests\n",
    "from datetime import datetime\n",
    "import pandas as pd\n",
    "\n",
    "API_ROOT = \"https://api.energy-charts.info\"\n",
    "\n",
    "params = {\"country\": \"de\", \"start\": datetime(2023, 1, 1), \"end\": datetime(2023, 2, 1)}\n",
    "response = requests.get(f\"{API_ROOT}/public_power\", params=params)\n",
    "response_dict = response.json()\n",
    "dt_index = pd.DatetimeIndex(pd.to_datetime(response_dict[\"unix_seconds\"], unit=\"s\"))\n",
    "df = pd.DataFrame({t[\"name\"]: t[\"data\"] for t in response_dict[\"production_types\"]}, index=dt_index)\n",
    "df"
   ]
  },
  {
   "cell_type": "markdown",
   "metadata": {},
   "source": [
    "# Weather"
   ]
  },
  {
   "cell_type": "markdown",
   "metadata": {},
   "source": [
    "### DWD\n",
    "\n",
    "[documentation](https://dwd.api.bund.dev/)\n",
    "> This could also be useful for model training: [https://opendata.dwd.de/climate_environment/CDC/](https://opendata.dwd.de/climate_environment/CDC/)\n",
    "\n",
    "**pricing:** free with copyright\n",
    "\n",
    "routes:\n",
    "\n",
    "- `/stationOverviewExtended`: returns data for a given weather station (by ID, **not** location)\n",
    "\n",
    "weather stations can be found [here](https://www.dwd.de/DE/leistungen/klimadatendeutschland/statliste/statlex_html.html) (updated daily, maybe we can build a scraper for that)"
   ]
  },
  {
   "cell_type": "code",
   "execution_count": null,
   "metadata": {},
   "outputs": [],
   "source": [
    "from deutschland.dwd.api import default_api\n",
    "from pprint import pprint\n",
    "\n",
    "api_instance = default_api.DefaultApi()\n",
    "response = api_instance.station_overview_extended_get(station_ids=[\"03246\"])\n",
    "pprint(response)"
   ]
  },
  {
   "cell_type": "markdown",
   "metadata": {},
   "source": [
    "### wetterdienst (pre 1.0 release)\n",
    "\n",
    "[documentation](https://wetterdienst.readthedocs.io/en/latest/)\n",
    "\n",
    "**pricing:** free\n",
    "\n",
    "[code examples](https://wetterdienst.readthedocs.io/en/latest/usage/python-examples.html)"
   ]
  },
  {
   "cell_type": "code",
   "execution_count": null,
   "metadata": {},
   "outputs": [],
   "source": [
    "from wetterdienst import Resolution, Period\n",
    "from wetterdienst.provider.dwd.observation import DwdObservationDataset, DwdObservationRequest\n",
    "\n",
    "stations = DwdObservationRequest(\n",
    "    parameter=DwdObservationDataset.PRECIPITATION_MORE,\n",
    "    resolution=Resolution.DAILY,\n",
    "    period=Period.HISTORICAL\n",
    ")\n",
    "print(next(stations.all().values.query()))"
   ]
  },
  {
   "cell_type": "markdown",
   "metadata": {},
   "source": [
    "### IBM Environmental Intelligence Suite\n",
    "\n",
    "[documentation](https://www.ibm.com/products/environmental-intelligence-suite/apis)\n",
    "\n",
    "**[pricing](https://www.ibm.com/products/environmental-intelligence-suite/pricing):**\n",
    "- different tiers, starting at 500 USD/month"
   ]
  },
  {
   "cell_type": "markdown",
   "metadata": {},
   "source": [
    "### visualcrossing\n",
    "\n",
    "[documentation](https://www.visualcrossing.com/resources/documentation/weather-api/timeline-weather-api/)\n",
    "\n",
    "**[pricing](https://www.visualcrossing.com/weather-data-editions):**\n",
    "- free tier\n",
    "- different paid tiers with more features"
   ]
  }
 ],
 "metadata": {
  "kernelspec": {
   "display_name": "Python 3",
   "language": "python",
   "name": "python3"
  },
  "language_info": {
   "codemirror_mode": {
    "name": "ipython",
    "version": 3
   },
   "file_extension": ".py",
   "mimetype": "text/x-python",
   "name": "python",
   "nbconvert_exporter": "python",
   "pygments_lexer": "ipython3",
   "version": "3.11.5"
  }
 },
 "nbformat": 4,
 "nbformat_minor": 2
}
