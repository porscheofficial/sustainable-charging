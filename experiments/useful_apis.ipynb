{
 "cells": [
  {
   "cell_type": "markdown",
   "metadata": {},
   "source": [
    "# Useful APIs"
   ]
  },
  {
   "cell_type": "markdown",
   "metadata": {},
   "source": [
    "General Note: The [`deutschland` python package](https://pypi.org/project/deutschland/) provides access to the APIs from bund.dev."
   ]
  },
  {
   "cell_type": "markdown",
   "metadata": {},
   "source": [
    "## Charging Stations"
   ]
  },
  {
   "cell_type": "markdown",
   "metadata": {},
   "source": [
    "### Bundesnetzagentur: Ladesäulenregister\n",
    "\n",
    "[documentation](https://ladestationen.api.bund.dev/)\n",
    "\n",
    "**pricing:** free"
   ]
  },
  {
   "cell_type": "code",
   "execution_count": null,
   "metadata": {},
   "outputs": [],
   "source": [
    "import json\n",
    "from pprint import pprint\n",
    "from deutschland.ladestationen.api import default_api\n",
    "\n",
    "api_instance = default_api.DefaultApi()\n",
    "geometry = {\n",
    "    \"xmin\": 648310.999314399,\n",
    "    \"xmax\": 1708898.35458854,\n",
    "    \"ymin\": 5998767.0224341,\n",
    "    \"ymax\": 7353682.52593813,\n",
    "}\n",
    "api_response = api_instance.query_get(json.dumps(geometry), f=\"json\", _check_return_type=False) # disabled checking the return types as a workaround for https://github.com/bundesAPI/ladestationen-api/issues/2\n",
    "pprint(api_response)"
   ]
  },
  {
   "cell_type": "markdown",
   "metadata": {},
   "source": [
    "### Autobahn App API\n",
    "\n",
    "[documentation](https://autobahn.api.bund.dev/)\n",
    "\n",
    "**pricing:** free"
   ]
  },
  {
   "cell_type": "code",
   "execution_count": null,
   "metadata": {},
   "outputs": [],
   "source": [
    "from pprint import pprint\n",
    "from deutschland.autobahn.api import default_api\n",
    "\n",
    "api_instance = default_api.DefaultApi()\n",
    "station_id = \"RUxFQ1RSSUNfQ0hBUkdJTkdfU1RBVElPTl9fMTczMzM=\"\n",
    "api_response = api_instance.get_charging_station(station_id)\n",
    "pprint(api_response)"
   ]
  },
  {
   "cell_type": "markdown",
   "metadata": {},
   "source": [
    "## Energy Mix"
   ]
  },
  {
   "cell_type": "markdown",
   "metadata": {},
   "source": [
    "### Bundesnetzagentur: Strommarktdaten (SMARD)\n",
    "\n",
    "[documentation](https://smard.api.bund.dev/)\n",
    "\n",
    "**pricing:** free"
   ]
  },
  {
   "cell_type": "code",
   "execution_count": null,
   "metadata": {},
   "outputs": [],
   "source": [
    "\n",
    "from pprint import pprint\n",
    "from deutschland.smard.api import default_api\n",
    "from datetime import datetime\n",
    "\n",
    "api_instance = default_api.DefaultApi()\n",
    "filter_id = 1223\n",
    "region = \"DE\"\n",
    "timestamp = int(datetime(2021, 8, 2).timestamp()) * 1000\n",
    "\n",
    "api_response = api_instance.filter_region_filter_copy_region_copy_resolution_timestamp_json_get(filter_id, filter_id, region, timestamp)\n",
    "results = [[datetime.fromtimestamp(int(ts / 1000)), val] for [ts, val] in api_response[\"series\"]]\n",
    "pprint(results)"
   ]
  }
 ],
 "metadata": {
  "kernelspec": {
   "display_name": "Python 3",
   "language": "python",
   "name": "python3"
  },
  "language_info": {
   "codemirror_mode": {
    "name": "ipython",
    "version": 3
   },
   "file_extension": ".py",
   "mimetype": "text/x-python",
   "name": "python",
   "nbconvert_exporter": "python",
   "pygments_lexer": "ipython3",
   "version": "3.11.5"
  }
 },
 "nbformat": 4,
 "nbformat_minor": 2
}
