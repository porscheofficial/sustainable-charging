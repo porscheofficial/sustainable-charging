{
 "cells": [
  {
   "cell_type": "code",
   "execution_count": 4,
   "metadata": {},
   "outputs": [
    {
     "name": "stdout",
     "output_type": "stream",
     "text": [
      "Requirement already satisfied: requests in ./.venv/lib/python3.11/site-packages (2.31.0)\n",
      "Requirement already satisfied: charset-normalizer<4,>=2 in ./.venv/lib/python3.11/site-packages (from requests) (3.3.2)\n",
      "Requirement already satisfied: idna<4,>=2.5 in ./.venv/lib/python3.11/site-packages (from requests) (3.4)\n",
      "Requirement already satisfied: urllib3<3,>=1.21.1 in ./.venv/lib/python3.11/site-packages (from requests) (2.0.7)\n",
      "Requirement already satisfied: certifi>=2017.4.17 in ./.venv/lib/python3.11/site-packages (from requests) (2023.7.22)\n",
      "Note: you may need to restart the kernel to use updated packages.\n"
     ]
    }
   ],
   "source": [
    "%pip install requests"
   ]
  },
  {
   "cell_type": "code",
   "execution_count": 5,
   "metadata": {},
   "outputs": [],
   "source": [
    "import requests\n",
    "import os\n",
    "import urllib.parse\n",
    "from dataclasses import dataclass\n"
   ]
  },
  {
   "cell_type": "code",
   "execution_count": 6,
   "metadata": {},
   "outputs": [],
   "source": [
    "ROUTING_API_KEY = '5b3ce3597851110001cf624834ddb0fae46447969085ea7efe629c8f'\n",
    "COUNTRY = \"DE\"\n",
    "\n",
    "\n",
    "@dataclass\n",
    "class GeoCode:\n",
    "    latitude: float\n",
    "    longitude: float\n",
    "\n",
    "    def __str__(self):\n",
    "        return f\"{self.latitude},{self.longitude}\"\n",
    "\n",
    "\n",
    "def get_coordinates(address: str):\n",
    "\n",
    "    converted_address = urllib.parse.quote(address)\n",
    "\n",
    "    headers = {\n",
    "        'Accept': 'application/json, application/geo+json, application/gpx+xml, img/png; charset=utf-8',\n",
    "    }\n",
    "    url = f'https://api.openrouteservice.org/geocode/search?api_key={ROUTING_API_KEY}&text={converted_address}&boundary.country={COUNTRY}&size=1'\n",
    "    response = requests.get(url, headers=headers)\n",
    "    data = response.json()\n",
    "\n",
    "    if \"features\" in data and len(data[\"features\"]) > 0:\n",
    "        coordinates = data[\"features\"][0][\"geometry\"][\"coordinates\"]\n",
    "        latitude, longitude = coordinates\n",
    "        return GeoCode(latitude, longitude)\n",
    "    else:\n",
    "        return None\n",
    "    \n",
    "\n",
    "@dataclass\n",
    "class Route:\n",
    "    distance_km: float\n",
    "    duration_mins: float\n",
    "\n",
    "    def __str__(self):\n",
    "        return f\"{self.distance_km} km, {self.duration_mins} mins\"\n",
    "\n",
    "\n",
    "def get_route(start, end): \n",
    "    url = f\"https://api.openrouteservice.org/v2/directions/driving-car?api_key={ROUTING_API_KEY}&start={start}&end={end}\"\n",
    "\n",
    "\n",
    "    response = requests.get(url)\n",
    "    data = response.json()\n",
    "\n",
    "    if \"features\" in data and len(data[\"features\"]) > 0:\n",
    "        duration = data[\"features\"][0][\"properties\"][\"segments\"][0][\"duration\"]\n",
    "        distance = data[\"features\"][0][\"properties\"][\"segments\"][0][\"distance\"]\n",
    "        return Route(distance_km=distance/1000, duration_mins=duration/60)\n",
    "    else:\n",
    "        return None"
   ]
  },
  {
   "cell_type": "code",
   "execution_count": 21,
   "metadata": {},
   "outputs": [
    {
     "name": "stdout",
     "output_type": "stream",
     "text": [
      "13.098967,52.406464\n",
      "13.402746,52.540939\n",
      "31.789 km, 51.855000000000004 mins\n"
     ]
    }
   ],
   "source": [
    "start = get_coordinates(\"Park Babelsberg 14, 14482 Potsdam, Germany\")\n",
    "end = get_coordinates(\"Freunde des Mauerparks e.V, Bernauer Str. 63, 13355 Berlin, Germany\")\n",
    "route = get_route(start, end)\n",
    "\n",
    "print(start)\n",
    "print(end)\n",
    "print(route)"
   ]
  },
  {
   "cell_type": "code",
   "execution_count": 29,
   "metadata": {},
   "outputs": [],
   "source": [
    "def get_charging_points(pos1: GeoCode, pos2: GeoCode):\n",
    "\n",
    "    bbox = (\n",
    "        min(pos1.latitude, pos2.latitude), \n",
    "        min(pos1.longitude, pos2.longitude), \n",
    "        max(pos1.latitude, pos2.latitude),\n",
    "        max(pos1.longitude, pos2.longitude)\n",
    "    )\n",
    "\n",
    "    # Construct query\n",
    "    query = f'''\n",
    "[out:json];\n",
    "(\n",
    "node[\"amenity\"=\"charging_station\"]({bbox[0]}, {bbox[1]}, {bbox[2]}, {bbox[3]});\n",
    "way[\"amenity\"=\"charging_station\"]({bbox[0]}, {bbox[1]}, {bbox[2]}, {bbox[3]});\n",
    "relation[\"amenity\"=\"charging_station\"]({bbox[0]}, {bbox[1]}, {bbox[2]}, {bbox[3]});\n",
    ");\n",
    "out center;\n",
    "    '''\n",
    "\n",
    "    # Make the API request\n",
    "    overpass_url = \"https://z.overpass-api.de/api/interpreter\"\n",
    "    response = requests.post(overpass_url, data=query)\n",
    "\n",
    "    # visualize results\n",
    "    charging_stations = []\n",
    "\n",
    "    if response.status_code == 200:\n",
    "        parsed_data = response.json()\n",
    "        \n",
    "        for element in parsed_data['elements']:\n",
    "            if element.get('tags', {}).get('amenity') == 'charging_station':\n",
    "                if element['type'] == 'node':\n",
    "                    lat = element.get('lat', None)\n",
    "                    lon = element.get('lon', None)\n",
    "                elif element['type'] == 'way' and 'center' in element:\n",
    "                    lat = element['center'].get('lat', None)\n",
    "                    lon = element['center'].get('lon', None)\n",
    "                else:\n",
    "                    lat = 'Unknown'\n",
    "                    lon = 'Unknown'\n",
    "                name = element.get('tags', {}).get('name', 'Unknown Name')\n",
    "                address = element.get('tags', {}).get('address', 'Unknown Address')\n",
    "                charging_stations.append({\n",
    "                    'name': name,\n",
    "                    'address': address,\n",
    "                    'lat': lat,\n",
    "                    'lon': lon\n",
    "                })\n",
    "        return charging_stations\n",
    "    else:\n",
    "        raise RuntimeError(f\"Request failed with status code {response.status_code}\")"
   ]
  },
  {
   "cell_type": "code",
   "execution_count": 30,
   "metadata": {},
   "outputs": [
    {
     "data": {
      "text/plain": [
       "[{'name': 'Unknown Name',\n",
       "  'address': 'Unknown Address',\n",
       "  'lat': 42.3892045,\n",
       "  'lon': -71.1327904},\n",
       " {'name': 'ChargePoint',\n",
       "  'address': 'Unknown Address',\n",
       "  'lat': 42.3962469,\n",
       "  'lon': -71.1199394},\n",
       " {'name': 'ChargePoint',\n",
       "  'address': 'Unknown Address',\n",
       "  'lat': 42.395375,\n",
       "  'lon': -71.1234511},\n",
       " {'name': 'ChargePoint',\n",
       "  'address': 'Unknown Address',\n",
       "  'lat': 42.3659046,\n",
       "  'lon': -71.1055873},\n",
       " {'name': 'Unknown Name',\n",
       "  'address': 'Unknown Address',\n",
       "  'lat': 42.369874,\n",
       "  'lon': -71.1031063},\n",
       " {'name': 'Unknown Name',\n",
       "  'address': 'Unknown Address',\n",
       "  'lat': 42.3813403,\n",
       "  'lon': -71.1034341}]"
      ]
     },
     "execution_count": 30,
     "metadata": {},
     "output_type": "execute_result"
    }
   ],
   "source": [
    "get_charging_points(GeoCode(42.35, -71.15), GeoCode(42.40, -71.10))"
   ]
  },
  {
   "cell_type": "code",
   "execution_count": 31,
   "metadata": {},
   "outputs": [
    {
     "name": "stdout",
     "output_type": "stream",
     "text": [
      "13.098967,52.406464\n",
      "13.402746,52.540939\n",
      "[]\n"
     ]
    }
   ],
   "source": [
    "print(start)\n",
    "print(end)\n",
    "print(get_charging_points(start, end))"
   ]
  },
  {
   "cell_type": "code",
   "execution_count": null,
   "metadata": {},
   "outputs": [],
   "source": []
  }
 ],
 "metadata": {
  "kernelspec": {
   "display_name": ".venv",
   "language": "python",
   "name": "python3"
  },
  "language_info": {
   "codemirror_mode": {
    "name": "ipython",
    "version": 3
   },
   "file_extension": ".py",
   "mimetype": "text/x-python",
   "name": "python",
   "nbconvert_exporter": "python",
   "pygments_lexer": "ipython3",
   "version": "3.11.3"
  }
 },
 "nbformat": 4,
 "nbformat_minor": 2
}
